{
 "cells": [
  {
   "cell_type": "markdown",
   "metadata": {},
   "source": [
    "# Question 1: "
   ]
  },
  {
   "cell_type": "code",
   "execution_count": 30,
   "metadata": {
    "scrolled": true
   },
   "outputs": [
    {
     "name": "stdout",
     "output_type": "stream",
     "text": [
      "2 is first value\n",
      "10 is last value\n",
      "yes\n"
     ]
    },
    {
     "data": {
      "text/plain": [
       "[15, '5', 0, 'js', 4.6, 'java', 50]"
      ]
     },
     "execution_count": 30,
     "metadata": {},
     "output_type": "execute_result"
    }
   ],
   "source": [
    "# q ==> 1\n",
    "my_list= [2, 15, 0, 'python', 4.6, 'java', 90, 10]\n",
    "print(f'{my_list[0]} is first value')\n",
    "print(f'{my_list[-1]} is last value')\n",
    "\n",
    "# q ==> 2\n",
    "my_list.pop(-1)\n",
    "my_list.pop(0)\n",
    "\n",
    "# q ==> 3\n",
    "my_list.remove(90)\n",
    "# my_list.remove(300) # 300 is not in list so i have a error\n",
    "\n",
    "# q ==> 4\n",
    "my_list.insert(1,'5')\n",
    "\n",
    "# q ==> 5\n",
    "my_list[3] = 'js'\n",
    "\n",
    "# q ==> 6\n",
    "my_list.append(50)\n",
    "\n",
    "# q ==> 7\n",
    "if 0 in my_list:\n",
    "    print('yes')\n",
    "else:\n",
    "    print(\"no\")\n",
    "\n",
    "my_list"
   ]
  },
  {
   "cell_type": "markdown",
   "metadata": {},
   "source": [
    "# Question 2:"
   ]
  },
  {
   "cell_type": "code",
   "execution_count": 2,
   "metadata": {},
   "outputs": [
    {
     "name": "stdout",
     "output_type": "stream",
     "text": [
      "Enter your numbers: 50 / 0\n",
      "50 / 0 = Error\n"
     ]
    }
   ],
   "source": [
    "Inp = input('Enter your numbers: ')\n",
    "Inp = Inp.split()\n",
    "for i in Inp:\n",
    "    Operator1 = int(Inp[0])\n",
    "    Operator2 = int(Inp[2])\n",
    "if Inp[1] == '+':\n",
    "    res = Operator1 + Operator2\n",
    "    print(f'{Operator1} + {Operator2} = {res}')\n",
    "elif Inp[1] == '-':\n",
    "    res = Operator1 - Operator2\n",
    "    print(f'{Operator1} - {Operator2} = {res}')\n",
    "elif Inp[1] == '*':\n",
    "    res = Operator1 * Operator2\n",
    "    print(f'{Operator1} * {Operator2} = {res}')\n",
    "elif Inp[1] == '/':\n",
    "    if Operator2 == 0:\n",
    "        print(f'{Operator1} / {Operator2} = Error')\n",
    "    else:\n",
    "        print(res)    "
   ]
  },
  {
   "cell_type": "markdown",
   "metadata": {},
   "source": [
    "# Question 3:"
   ]
  },
  {
   "cell_type": "code",
   "execution_count": 7,
   "metadata": {},
   "outputs": [
    {
     "name": "stdout",
     "output_type": "stream",
     "text": [
      "[2, 18, 34]\n"
     ]
    }
   ],
   "source": [
    "List1 = [ 12, 2, 34, 10, 4, 18, 10]\n",
    "List2 = [12, 100, 10, 4, 5, 50]\n",
    "result = list(set(List1) - set(List2))\n",
    "print(result)"
   ]
  },
  {
   "cell_type": "markdown",
   "metadata": {},
   "source": [
    "# Question 4:"
   ]
  },
  {
   "cell_type": "code",
   "execution_count": 51,
   "metadata": {},
   "outputs": [
    {
     "name": "stdout",
     "output_type": "stream",
     "text": [
      "8 is length\n",
      "1.5 is minimum value\n",
      "45 is maximum value\n",
      "140.9 is sum of value\n",
      "average is =  17.6125\n",
      "median is =  16.0\n"
     ]
    }
   ],
   "source": [
    "ls = [10, 20, 20, 12, 30, 45, 2.4, 1.5]\n",
    "print(len(ls), \"is length\")\n",
    "print(min(ls), \"is minimum value\")\n",
    "print(max(ls), \"is maximum value\")\n",
    "print(sum(ls), \"is sum of value\")\n",
    "print('average is = ', sum(ls)/len(ls))\n",
    "\n",
    "def get_median(ls):\n",
    "    # sort the list\n",
    "    ls_sorted = ls.sort()\n",
    "    # find the median\n",
    "    if len(ls) % 2 != 0:\n",
    "        # total number of values are odd\n",
    "        # subtract 1 since indexing starts at 0\n",
    "        m = int((len(ls)+1)/2 - 1)\n",
    "        return ls[m]\n",
    "    else:\n",
    "        m1 = int(len(ls)/2 - 1)\n",
    "        m2 = int(len(ls)/2)\n",
    "        return (ls[m1]+ls[m2])/2\n",
    "\n",
    "ls = [10, 20, 20, 12, 30, 45, 2.4, 1.5]\n",
    "\n",
    "print('median is = ',get_median(ls))\n",
    "\n"
   ]
  }
 ],
 "metadata": {
  "kernelspec": {
   "display_name": "Python 3 (ipykernel)",
   "language": "python",
   "name": "python3"
  },
  "language_info": {
   "codemirror_mode": {
    "name": "ipython",
    "version": 3
   },
   "file_extension": ".py",
   "mimetype": "text/x-python",
   "name": "python",
   "nbconvert_exporter": "python",
   "pygments_lexer": "ipython3",
   "version": "3.9.7"
  }
 },
 "nbformat": 4,
 "nbformat_minor": 2
}
