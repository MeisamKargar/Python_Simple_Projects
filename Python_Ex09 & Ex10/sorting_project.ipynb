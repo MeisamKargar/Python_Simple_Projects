{
 "cells": [
  {
   "cell_type": "code",
   "execution_count": 1,
   "metadata": {},
   "outputs": [],
   "source": [
    "import os\n",
    "import glob"
   ]
  },
  {
   "cell_type": "code",
   "execution_count": 2,
   "metadata": {},
   "outputs": [],
   "source": [
    "def create_folders(exts):\n",
    "    for i in exts:\n",
    "        os.makedirs(f\"folder_{i}\")"
   ]
  },
  {
   "cell_type": "code",
   "execution_count": 3,
   "metadata": {},
   "outputs": [],
   "source": [
    "def move_files(list_of_files): \n",
    "    for i in list_of_files:# i = test.py ===> folder_py/\n",
    "        ext = i.split(\".\") # ext = [\"test\", \"py\"]\n",
    "        ext = ext[-1].lower() # ext = \"py\"\n",
    "        os.rename(i, f\"folder_{ext}/{i}\") # folder_py/test.py"
   ]
  },
  {
   "cell_type": "code",
   "execution_count": 4,
   "metadata": {},
   "outputs": [],
   "source": [
    "# step1\n",
    "list_of_files = glob.glob(\"*\")\n",
    "#list_of_files"
   ]
  },
  {
   "cell_type": "code",
   "execution_count": 5,
   "metadata": {},
   "outputs": [
    {
     "name": "stdout",
     "output_type": "stream",
     "text": [
      "{'ipynb'}\n"
     ]
    }
   ],
   "source": [
    "# step2\n",
    "exts = set()\n",
    "for i in list_of_files:\n",
    "    ext = i.split(\".\")\n",
    "    exts.add(ext[-1].lower())\n",
    "print(exts)"
   ]
  },
  {
   "cell_type": "code",
   "execution_count": 6,
   "metadata": {},
   "outputs": [
    {
     "ename": "FileNotFoundError",
     "evalue": "[WinError 3] The system cannot find the path specified: 'FPYC_Apr23_Ex 09 &10_Meisam_Kargar.ipynb' -> 'folder_ipynb/FPYC_Apr23_Ex 09 &10_Meisam_Kargar.ipynb'",
     "output_type": "error",
     "traceback": [
      "\u001b[1;31m---------------------------------------------------------------------------\u001b[0m",
      "\u001b[1;31mFileNotFoundError\u001b[0m                         Traceback (most recent call last)",
      "\u001b[1;32mc:\\Users\\meisam\\Python_course_filoger\\FPYC_Apr23_Python_Ex09 & Ex10_Meisam_kargar\\sorting_project.ipynb Cell 6\u001b[0m in \u001b[0;36m1\n\u001b[1;32m----> <a href='vscode-notebook-cell:/c%3A/Users/meisam/Python_course_filoger/FPYC_Apr23_Python_Ex09%20%26%20Ex10_Meisam_kargar/sorting_project.ipynb#W5sZmlsZQ%3D%3D?line=0'>1</a>\u001b[0m move_files(list_of_files)\n",
      "\u001b[1;32mc:\\Users\\meisam\\Python_course_filoger\\FPYC_Apr23_Python_Ex09 & Ex10_Meisam_kargar\\sorting_project.ipynb Cell 6\u001b[0m in \u001b[0;36m5\n\u001b[0;32m      <a href='vscode-notebook-cell:/c%3A/Users/meisam/Python_course_filoger/FPYC_Apr23_Python_Ex09%20%26%20Ex10_Meisam_kargar/sorting_project.ipynb#W5sZmlsZQ%3D%3D?line=2'>3</a>\u001b[0m ext \u001b[39m=\u001b[39m i\u001b[39m.\u001b[39msplit(\u001b[39m\"\u001b[39m\u001b[39m.\u001b[39m\u001b[39m\"\u001b[39m) \u001b[39m# ext = [\"test\", \"py\"]\u001b[39;00m\n\u001b[0;32m      <a href='vscode-notebook-cell:/c%3A/Users/meisam/Python_course_filoger/FPYC_Apr23_Python_Ex09%20%26%20Ex10_Meisam_kargar/sorting_project.ipynb#W5sZmlsZQ%3D%3D?line=3'>4</a>\u001b[0m ext \u001b[39m=\u001b[39m ext[\u001b[39m-\u001b[39m\u001b[39m1\u001b[39m]\u001b[39m.\u001b[39mlower() \u001b[39m# ext = \"py\"\u001b[39;00m\n\u001b[1;32m----> <a href='vscode-notebook-cell:/c%3A/Users/meisam/Python_course_filoger/FPYC_Apr23_Python_Ex09%20%26%20Ex10_Meisam_kargar/sorting_project.ipynb#W5sZmlsZQ%3D%3D?line=4'>5</a>\u001b[0m os\u001b[39m.\u001b[39;49mrename(i, \u001b[39mf\u001b[39;49m\u001b[39m\"\u001b[39;49m\u001b[39mfolder_\u001b[39;49m\u001b[39m{\u001b[39;49;00mext\u001b[39m}\u001b[39;49;00m\u001b[39m/\u001b[39;49m\u001b[39m{\u001b[39;49;00mi\u001b[39m}\u001b[39;49;00m\u001b[39m\"\u001b[39;49m)\n",
      "\u001b[1;31mFileNotFoundError\u001b[0m: [WinError 3] The system cannot find the path specified: 'FPYC_Apr23_Ex 09 &10_Meisam_Kargar.ipynb' -> 'folder_ipynb/FPYC_Apr23_Ex 09 &10_Meisam_Kargar.ipynb'"
     ]
    }
   ],
   "source": [
    "move_files(list_of_files)"
   ]
  }
 ],
 "metadata": {
  "kernelspec": {
   "display_name": "Python 3",
   "language": "python",
   "name": "python3"
  },
  "language_info": {
   "codemirror_mode": {
    "name": "ipython",
    "version": 3
   },
   "file_extension": ".py",
   "mimetype": "text/x-python",
   "name": "python",
   "nbconvert_exporter": "python",
   "pygments_lexer": "ipython3",
   "version": "3.11.0"
  },
  "orig_nbformat": 4
 },
 "nbformat": 4,
 "nbformat_minor": 2
}
