{
 "cells": [
  {
   "cell_type": "markdown",
   "metadata": {},
   "source": [
    "<div>\n",
    "<h2 style=\"background-color:#E06469;text-align:center;border-radius:40px;border: 1px;padding: 20px;\"><b>Filoger Hands On Prerequisite Python For AI <br>Exercises 07 & 08 | Deadline: 2023 9 May <br> Score: 700</h2>\n",
    "</div>"
   ]
  },
  {
   "cell_type": "markdown",
   "metadata": {},
   "source": [
    "# Name"
   ]
  },
  {
   "cell_type": "markdown",
   "metadata": {},
   "source": [
    "## meisam kargar"
   ]
  },
  {
   "cell_type": "markdown",
   "metadata": {},
   "source": [
    "<h3 style=\"background-color:#ff3300\n",
    ";text-align:center;border-radius:40px;border: 1px;padding: 10px;\"><b>Exercises 07<br>Score: 400</h3>"
   ]
  },
  {
   "cell_type": "markdown",
   "metadata": {},
   "source": [
    "<h5 style=\"background-color:#1765e3;text-align:left;border-radius:40px;border: 1px;padding: 10px;\"><b>1- Write the product management project (exercise 6) using functions. (150)</h5>"
   ]
  },
  {
   "cell_type": "code",
   "execution_count": null,
   "metadata": {},
   "outputs": [],
   "source": [
    "# تابعی برای نمایش لیست محصولات\n",
    "def display_list(product_list):\n",
    "    print(\"Product available :\")\n",
    "    for product in product_list:\n",
    "        print(product[\"name\"], \": \", product[\"price\"], \"Toman\")\n",
    "# تابعی برای جستجوی محصول بر اساس نام\n",
    "def search_product(product_list, name):\n",
    "    found = False\n",
    "    for product in product_list:\n",
    "        if name == product[\"name\"]:\n",
    "            found = True\n",
    "            print(product[\"name\"], \": \", product[\"price\"], \"Toman\")\n",
    "    if not found:\n",
    "        print(\" any product not found!\")\n",
    "# تابعی برای اضافه کردن محصول جدید\n",
    "def add_product(product_list, name, price):\n",
    "    product = {\"name\": name, \"price\": price}\n",
    "    product_list.append(product)\n",
    "    print(name, \" Poduct is added successfuly\")\n",
    "# تابعی برای حذف محصول\n",
    "def delete_product(product_list, name):\n",
    "    for product in product_list:\n",
    "        if name == product[\"name\"]:\n",
    "            product_list.remove(product)\n",
    "            print(name, \" Product is deleted successfuly\")\n",
    "            return\n",
    "    print(\"Product is not found\")\n",
    "# لیست اولیه محصولات\n",
    "products = [\n",
    "    {\"name\": \"Meat\", \"price\": 500},\n",
    "    {\"name\": \"buter\", \"price\": 250},\n",
    "    {\"name\": \"apple\", \"price\": 100}\n",
    "]\n",
    "# نمایش منوی کاربری\n",
    "while True:\n",
    "    print(\" Please select one option of list :\\n\")\n",
    "    print(\"1- product list show \")\n",
    "    print(\"2- search \")\n",
    "    print(\"3- add  \")\n",
    "    print(\"4- delete \")\n",
    "    print(\"5- exit\")\n",
    "    choice = input(\"\\n Enter your option: \")\n",
    "    # بررسی گزینه انتخاب شده توسط کاربر\n",
    "    if choice == \"1\":\n",
    "        display_list(products)\n",
    "    elif choice == \"2\":\n",
    "        name = input(\"Input Product name: \")\n",
    "        search_product(products, name)\n",
    "    elif choice == \"3\":\n",
    "        name = input(\"Enter a new Product: \")\n",
    "        price = int(input(\"Enter a new price: \"))\n",
    "        add_product(products, name, price)\n",
    "    elif choice == \"4\":\n",
    "        name = input(\"for delete product enter name product:\")\n",
    "        delete_product(products, name)\n",
    "    elif choice == \"5\":\n",
    "        break\n",
    "    else:\n",
    "        print(\"Your command is not found!\")"
   ]
  },
  {
   "cell_type": "markdown",
   "metadata": {},
   "source": [
    "<h5 style=\"background-color:#1765e3;text-align:left;border-radius:40px;border: 1px;padding: 10px;\"><b>2- Write the question 2 of exercise 5 using functions (100)</h5>"
   ]
  },
  {
   "cell_type": "code",
   "execution_count": null,
   "metadata": {},
   "outputs": [],
   "source": [
    "def comprator():\n",
    "    Inp = input('Enter your numbers: ')\n",
    "    Inp = Inp.split()\n",
    "    for i in Inp:\n",
    "        Operator1 = int(Inp[0])\n",
    "        Operator2 = int(Inp[2])\n",
    "    if Inp[1] == '+':\n",
    "        res = Operator1 + Operator2\n",
    "        print(f'{Operator1} + {Operator2} = {res}')\n",
    "    elif Inp[1] == '-':\n",
    "        res = Operator1 - Operator2\n",
    "        print(f'{Operator1} - {Operator2} = {res}')\n",
    "    elif Inp[1] == '*':\n",
    "        res = Operator1 * Operator2\n",
    "        print(f'{Operator1} * {Operator2} = {res}')\n",
    "    elif Inp[1] == '/':\n",
    "        if Operator2 == 0:\n",
    "            print(f'{Operator1} / {Operator2} = Error')\n",
    "        else:\n",
    "            print(res) \n",
    "comprator()"
   ]
  },
  {
   "cell_type": "markdown",
   "metadata": {},
   "source": [
    "<h5 style=\"background-color:#1765e3;text-align:left;border-radius:40px;border: 1px;padding: 10px;\"><b>3- Receive two strings from the user in the following format, then receive one of the +, - and * and perform the requested calculations.(150)</h5>"
   ]
  },
  {
   "cell_type": "code",
   "execution_count": null,
   "metadata": {},
   "outputs": [],
   "source": [
    "def lst_ind():\n",
    "    user1 = input(\"enter number 1: \")   \n",
    "    user2 = input(\"enter number 2: \")\n",
    "    user3 = input(\"enter operand: \")\n",
    "\n",
    "    user1 = user1.split()\n",
    "    user2 = user2.split()\n",
    "    \n",
    "    a = [int(i) for i in user1]\n",
    "    b = [int(j) for j in user2]\n",
    "\n",
    "    if user3 == '+':\n",
    "        res_lt = [] # declaration of the list  \n",
    "        for x in range (0, len (a)):  \n",
    "            res_lt.append( a[x] + b[x]) \n",
    "\n",
    "        print(res_lt)    \n",
    "    elif user3 == '-':\n",
    "        res_lt = [] # declaration of the list  \n",
    "        for x in range (0, len (a)):  \n",
    "            res_lt.append( a[x] - b[x]) \n",
    "\n",
    "        print(res_lt) \n",
    "\n",
    "    elif user3 == '*':\n",
    "        res_lt = [] # declaration of the list  \n",
    "        for x in range (0, len (a)):  \n",
    "            res_lt.append( a[x] * b[x]) \n",
    "\n",
    "        print(f'youe answer is: {res_lt}') \n",
    "lst_ind()"
   ]
  },
  {
   "cell_type": "markdown",
   "metadata": {},
   "source": [
    "<h3 style=\"background-color:#ff3300\n",
    ";text-align:center;border-radius:40px;border: 1px;padding: 10px;\"><b>Exercises 08<br>Score: 300</h3>"
   ]
  },
  {
   "cell_type": "markdown",
   "metadata": {},
   "source": [
    "<h5 style=\"background-color:#1765e3;text-align:left;border-radius:40px;border: 1px;padding: 10px;\"><b>1- (Dictionary) : Answer the following questions based on the dictionary topic.\n",
    "</h5>"
   ]
  },
  {
   "cell_type": "markdown",
   "metadata": {},
   "source": [
    "<h5>A) Create a product dictionary that contains the following information.</h5>"
   ]
  },
  {
   "cell_type": "code",
   "execution_count": 87,
   "metadata": {},
   "outputs": [
    {
     "name": "stdout",
     "output_type": "stream",
     "text": [
      "{'Product_code': '131', 'product_name': 'laptop', 'product_price': 120000, 'product_quantity': '20', 'product_sales_branch': 'Tehran'}\n"
     ]
    }
   ],
   "source": [
    "product_dict = {\"Product_code\":\"131\"\n",
    "                ,\"product_name\":\"laptop\"\n",
    "                , \"product_price\":120000\n",
    "                , \"product_quantity\": \"20\"\n",
    "                , \"product_sales_branch\":\"Tehran\"\n",
    "               }\n",
    "print(product_dict)"
   ]
  },
  {
   "cell_type": "markdown",
   "metadata": {},
   "source": [
    "<h5>B) Get a number from the user and create a list of products as long as the entered number.</h5>"
   ]
  },
  {
   "cell_type": "code",
   "execution_count": 102,
   "metadata": {},
   "outputs": [
    {
     "name": "stdout",
     "output_type": "stream",
     "text": [
      "Enter a number: 3\n",
      "enter a code: 25\n",
      "enter a name: laptop\n",
      "enter a price: 3600000\n",
      "enter a quantity: 5\n",
      "enter a branch name: tehran\n",
      "enter a code: 214\n",
      "enter a name: ram\n",
      "enter a price: 250000\n",
      "enter a quantity: 5\n",
      "enter a branch name: shiraz\n",
      "enter a code: 269\n",
      "enter a name: isfahan\n",
      "enter a price: 64000000\n",
      "enter a quantity: 1\n",
      "enter a branch name: isfahan\n",
      "[{'Product_code': 25, 'product_name': 'laptop', 'product_price': 3600000, 'product_quantity': 5, 'product_sales_branch': 'tehran'}, {'Product_code': 214, 'product_name': 'ram', 'product_price': 250000, 'product_quantity': 5, 'product_sales_branch': 'shiraz'}, {'Product_code': 269, 'product_name': 'isfahan', 'product_price': 64000000, 'product_quantity': 1, 'product_sales_branch': 'isfahan'}]\n"
     ]
    }
   ],
   "source": [
    "product_list = []\n",
    "count = int(input(\"Enter a number: \"))\n",
    "for i in range(count):\n",
    "    code = int(input(\"enter a code: \"))\n",
    "    name = input(\"enter a name: \")\n",
    "    price = int(input(\"enter a price: \"))  \n",
    "    quantity = int(input(\"enter a quantity: \"))  \n",
    "    branch = input(\"enter a branch name: \")\n",
    "    products = {}\n",
    "    products.update({\"Product_code\": code, \"product_name\": name, \"product_price\":price, \"product_quantity\":quantity, \"product_sales_branch\":branch})\n",
    "    product_list.append(products)\n",
    "print(product_list)"
   ]
  },
  {
   "cell_type": "markdown",
   "metadata": {},
   "source": [
    "<h5>C) Display the price of the first product.</h5>"
   ]
  },
  {
   "cell_type": "code",
   "execution_count": 103,
   "metadata": {},
   "outputs": [
    {
     "name": "stdout",
     "output_type": "stream",
     "text": [
      "first product price is: 3600000\n"
     ]
    }
   ],
   "source": [
    "print(f'first product price is: {product_list[0][\"product_price\"]}')"
   ]
  },
  {
   "cell_type": "markdown",
   "metadata": {},
   "source": [
    "<h5>D) Remove the branch from all products.</h5>"
   ]
  },
  {
   "cell_type": "code",
   "execution_count": 104,
   "metadata": {},
   "outputs": [
    {
     "name": "stdout",
     "output_type": "stream",
     "text": [
      "This {'Product_code': 269, 'product_name': 'isfahan', 'product_price': 64000000, 'product_quantity': 1} dictionary is after remove branch\n"
     ]
    }
   ],
   "source": [
    "for key in product_list:\n",
    "    branch = key.pop('product_sales_branch')\n",
    "print(f'This {key} dictionary is after remove branch')"
   ]
  },
  {
   "cell_type": "markdown",
   "metadata": {},
   "source": [
    "<h5>E) Display product prices in a list in order.</h5>"
   ]
  },
  {
   "cell_type": "code",
   "execution_count": 137,
   "metadata": {},
   "outputs": [
    {
     "name": "stdout",
     "output_type": "stream",
     "text": [
      "25\n",
      "laptop\n",
      "3600000\n",
      "5\n",
      "214\n",
      "ram\n",
      "250000\n",
      "5\n",
      "269\n",
      "isfahan\n",
      "64000000\n",
      "1\n"
     ]
    }
   ],
   "source": []
  },
  {
   "cell_type": "markdown",
   "metadata": {},
   "source": [
    "<h5> F) Show average prices.</h5>"
   ]
  },
  {
   "cell_type": "code",
   "execution_count": null,
   "metadata": {},
   "outputs": [],
   "source": []
  }
 ],
 "metadata": {
  "kernelspec": {
   "display_name": "Python 3 (ipykernel)",
   "language": "python",
   "name": "python3"
  },
  "language_info": {
   "codemirror_mode": {
    "name": "ipython",
    "version": 3
   },
   "file_extension": ".py",
   "mimetype": "text/x-python",
   "name": "python",
   "nbconvert_exporter": "python",
   "pygments_lexer": "ipython3",
   "version": "3.9.7"
  }
 },
 "nbformat": 4,
 "nbformat_minor": 2
}
