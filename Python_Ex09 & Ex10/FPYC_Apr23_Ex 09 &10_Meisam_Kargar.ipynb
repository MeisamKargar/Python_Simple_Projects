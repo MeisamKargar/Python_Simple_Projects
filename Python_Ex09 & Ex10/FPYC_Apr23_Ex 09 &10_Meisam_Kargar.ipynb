{
 "cells": [
  {
   "attachments": {},
   "cell_type": "markdown",
   "metadata": {},
   "source": [
    "<div>\n",
    "<h2 style=\"background-color:Purple;text-align:center;border-radius:40px;border: 1px;padding: 20px; color:white\"><b>Filoger Hands On Prerequisite Python For AI <br>Exercises 07 & 08 | Deadline: 2023 9 May <br> Score: 700</h2>\n",
    "</div>"
   ]
  },
  {
   "attachments": {},
   "cell_type": "markdown",
   "metadata": {},
   "source": [
    "# Name"
   ]
  },
  {
   "attachments": {},
   "cell_type": "markdown",
   "metadata": {},
   "source": [
    "### Meisam Kargar"
   ]
  },
  {
   "attachments": {},
   "cell_type": "markdown",
   "metadata": {},
   "source": [
    "<h3 style=\"background-color:#ff3300\n",
    ";text-align:center;border-radius:40px;border: 1px;padding: 10px;color:white\"><b>Exercises 09<br>Score: 550</h3>"
   ]
  },
  {
   "attachments": {},
   "cell_type": "markdown",
   "metadata": {},
   "source": [
    "<h5 style=\"background-color:#1765e3;text-align:left;border-radius:40px;border: 1px;padding: 10px;color:white\"><b>1- Based on some examples (code), show the difference between list and tuple(50)</h5>"
   ]
  },
  {
   "cell_type": "code",
   "execution_count": null,
   "metadata": {},
   "outputs": [],
   "source": [
    "# list:\n",
    "list1 = [1,2,3,'hello',True]\n",
    "list1[4] = 'goodby' # list function is changeable\n",
    "print(list1)\n",
    "\n",
    "# -----------------------------\n",
    "\n",
    "# tuple:\n",
    "touple1 = (1,2,3,'hello', True)\n",
    "touple1[4] = 'goodby' # becuase touple is not changeable we have an error\n"
   ]
  },
  {
   "attachments": {},
   "cell_type": "markdown",
   "metadata": {},
   "source": [
    "<h5 style=\"background-color:#1765e3;text-align:left;border-radius:40px;border: 1px;padding: 10px;color:white\"><b>2- Tuple(100)</h5>"
   ]
  },
  {
   "attachments": {},
   "cell_type": "markdown",
   "metadata": {},
   "source": [
    "Create an empty tuple"
   ]
  },
  {
   "cell_type": "code",
   "execution_count": null,
   "metadata": {},
   "outputs": [],
   "source": [
    "t = ()  # This is an empty touple\n"
   ]
  },
  {
   "attachments": {},
   "cell_type": "markdown",
   "metadata": {},
   "source": [
    "Create a tuple with one item"
   ]
  },
  {
   "cell_type": "code",
   "execution_count": null,
   "metadata": {},
   "outputs": [],
   "source": [
    "t1 = ('One item', )  # This is a one item touple\n"
   ]
  },
  {
   "attachments": {},
   "cell_type": "markdown",
   "metadata": {},
   "source": [
    "Create a tuple with more than one item."
   ]
  },
  {
   "cell_type": "code",
   "execution_count": null,
   "metadata": {},
   "outputs": [],
   "source": [
    "t2 = ('hello', 1, 2, True) # This is a multi items touple\n"
   ]
  },
  {
   "attachments": {},
   "cell_type": "markdown",
   "metadata": {},
   "source": [
    "Concatenate two tuples of Part2 and Part3"
   ]
  },
  {
   "cell_type": "code",
   "execution_count": null,
   "metadata": {},
   "outputs": [],
   "source": [
    "t3 = t1 + t2 # concatate t1 with t2\n",
    "print(f'concated t1 and t2: {t3}', end='\\n')\n"
   ]
  },
  {
   "attachments": {},
   "cell_type": "markdown",
   "metadata": {},
   "source": [
    "Check 1 is in tuple of Part4 or no."
   ]
  },
  {
   "cell_type": "code",
   "execution_count": null,
   "metadata": {},
   "outputs": [],
   "source": [
    "if 1 in t3:\n",
    "    print('yes is there')\n",
    "else:\n",
    "    print(\"no this value not in touple\")"
   ]
  },
  {
   "attachments": {},
   "cell_type": "markdown",
   "metadata": {},
   "source": [
    "<h5 style=\"background-color:#1765e3;text-align:left;border-radius:40px;border: 1px;padding: 10px;color:white\"><b>3- Answer the questions according to the list below.\n",
    "numbers = (10, 20, 30, 5, 40, 20, 4, 2, 1,8, 80)  (100)</h5>"
   ]
  },
  {
   "attachments": {},
   "cell_type": "markdown",
   "metadata": {},
   "source": [
    "Add 100 at the end of tuple"
   ]
  },
  {
   "cell_type": "code",
   "execution_count": 1,
   "metadata": {},
   "outputs": [],
   "source": [
    "numbers = (10, 20, 30, 5, 40, 20, 4, 2, 1, 8, 80)\n",
    "numbers = numbers + (100, )"
   ]
  },
  {
   "attachments": {},
   "cell_type": "markdown",
   "metadata": {},
   "source": [
    "Add 50 in the index of 3."
   ]
  },
  {
   "cell_type": "code",
   "execution_count": 2,
   "metadata": {},
   "outputs": [],
   "source": [
    "numbers = numbers[0:3] + (50,) + numbers[3:]"
   ]
  },
  {
   "attachments": {},
   "cell_type": "markdown",
   "metadata": {},
   "source": [
    "Remove 30 from tuple"
   ]
  },
  {
   "cell_type": "code",
   "execution_count": 3,
   "metadata": {},
   "outputs": [],
   "source": [
    "numbers = numbers[0:2] + numbers[3:]"
   ]
  },
  {
   "attachments": {},
   "cell_type": "markdown",
   "metadata": {},
   "source": [
    "Edit 10 with 110."
   ]
  },
  {
   "cell_type": "code",
   "execution_count": 4,
   "metadata": {},
   "outputs": [],
   "source": [
    "numbers =  (110, ) + numbers[1:]"
   ]
  },
  {
   "attachments": {},
   "cell_type": "markdown",
   "metadata": {},
   "source": [
    "Sort the tuple."
   ]
  },
  {
   "cell_type": "code",
   "execution_count": 5,
   "metadata": {},
   "outputs": [
    {
     "data": {
      "text/plain": [
       "[1, 2, 4, 5, 8, 20, 20, 40, 50, 80, 100, 110]"
      ]
     },
     "execution_count": 5,
     "metadata": {},
     "output_type": "execute_result"
    }
   ],
   "source": [
    "numbers = sorted(numbers)\n",
    "numbers"
   ]
  },
  {
   "attachments": {},
   "cell_type": "markdown",
   "metadata": {},
   "source": [
    "<h5 style=\"background-color:#1765e3;text-align:left;border-radius:40px;border: 1px;padding: 10px;color:white\"><b>4- Write a python program that takes a list of tuple and display other list that only have\n",
    "first and last items of each tuple.</h5>"
   ]
  },
  {
   "cell_type": "code",
   "execution_count": 6,
   "metadata": {},
   "outputs": [
    {
     "name": "stdout",
     "output_type": "stream",
     "text": [
      "[('1', '3'), ('3', '6'), ('4', '12')]\n"
     ]
    }
   ],
   "source": [
    "# Input:[(1, 2, 3), (3, 5, 6), (4, 10, 12)]\n",
    "# Output: [(1, 3), (3, 6), (4, 12)]\n",
    "\n",
    "counter = 0\n",
    "list = []\n",
    "while counter != 3:\n",
    "    inp = tuple(input('enter a number').split())\n",
    "    list.append(inp)\n",
    "    counter += 1\n",
    "mid_remove = [i[0::2] for i in list]\n",
    "print(mid_remove)"
   ]
  },
  {
   "attachments": {},
   "cell_type": "markdown",
   "metadata": {},
   "source": [
    "<h5 style=\"background-color:#1765e3;text-align:left;border-radius:40px;border: 1px;padding: 10px;color:white\"><b>5- Generate 10 different random numbers between 100 and two 200.(100)\n",
    " </h5>"
   ]
  },
  {
   "cell_type": "code",
   "execution_count": 7,
   "metadata": {},
   "outputs": [
    {
     "name": "stdout",
     "output_type": "stream",
     "text": [
      "{166, 137, 123, 108, 111, 180, 149, 153, 187, 127}\n",
      "{132, 197, 198, 101, 168, 173, 153, 127, 158, 191}\n",
      "{163, 164, 167, 105, 138, 139, 145, 114, 125, 127}\n",
      "{194, 135, 104, 110, 176, 181, 150, 151, 152, 159}\n",
      "{161, 101, 167, 104, 107, 111, 147, 148, 150, 122}\n",
      "{128, 129, 195, 163, 164, 105, 109, 184, 122, 155}\n",
      "{128, 131, 132, 101, 103, 200, 170, 150, 122, 127}\n",
      "{161, 109, 174, 146, 182, 122, 187, 127, 189, 191}\n",
      "{192, 195, 142, 178, 115, 149, 121, 123, 188, 158}\n",
      "{130, 195, 163, 133, 199, 103, 150, 152, 158, 127}\n"
     ]
    }
   ],
   "source": [
    "import random\n",
    "for i in range(10):\n",
    "    random_numbers = random.sample(range(100, 201), 10)\n",
    "    print(set(random_numbers))"
   ]
  },
  {
   "attachments": {},
   "cell_type": "markdown",
   "metadata": {},
   "source": [
    "<h5 style=\"background-color:#1765e3;text-align:left;border-radius:40px;border: 1px;padding: 10px;color:white\"><b>6- Create two lists, then create a third list that contains values that are in the first list but\n",
    "not in the second list.\n",
    " </h5>"
   ]
  },
  {
   "cell_type": "code",
   "execution_count": 8,
   "metadata": {},
   "outputs": [
    {
     "name": "stdout",
     "output_type": "stream",
     "text": [
      "{1, 3, 5, 6, 7, 9}\n"
     ]
    }
   ],
   "source": [
    "l1 = [1,5,9,5,3]\n",
    "l2 = [5,6,9,7,1]\n",
    "l3 = []\n",
    "l3 = l1 + l2\n",
    "print(set(l3))"
   ]
  },
  {
   "attachments": {},
   "cell_type": "markdown",
   "metadata": {},
   "source": [
    "<h5 style=\"background-color:#1765e3;text-align:left;border-radius:40px;border: 1px;padding: 10px;color:white\"><b>7- Find two new methods for Tuple and Set.\n",
    " </h5>"
   ]
  },
  {
   "cell_type": "code",
   "execution_count": 11,
   "metadata": {},
   "outputs": [
    {
     "name": "stdout",
     "output_type": "stream",
     "text": [
      "{1, 2, 3, 35, 5, 6, 30}\n",
      "{1, 5, 6}\n"
     ]
    }
   ],
   "source": [
    "dic1 = {1,2,5,6,30}\n",
    "dic2 = {3,5,1,6,35}\n",
    "# Union method\n",
    "res1 = dic1 | dic2\n",
    "print(res1)\n",
    "\n",
    "# subscription method:\n",
    "res2 = dic1 & dic2\n",
    "print(res2)"
   ]
  },
  {
   "cell_type": "code",
   "execution_count": 13,
   "metadata": {},
   "outputs": [
    {
     "name": "stdout",
     "output_type": "stream",
     "text": [
      "First occurrence of 3 is 3\n",
      "Count of (2, 3) in Tuple is: 2\n"
     ]
    }
   ],
   "source": [
    "Tuple = (0, 1, 2, 3, 2, 3, 1, 3, 2)\n",
    "# getting the index of 3\n",
    "res = Tuple.index(3)\n",
    "print('First occurrence of 3 is', res)\n",
    " \n",
    "Tuple_1 = (0, 1, (2, 3), (2, 3), 1,[3, 2], 'geeks', (0,))\n",
    "# count the appearance of (2, 3)\n",
    "res = Tuple_1.count((2, 3))\n",
    "print('Count of (2, 3) in Tuple is:', res)\n"
   ]
  },
  {
   "attachments": {},
   "cell_type": "markdown",
   "metadata": {},
   "source": [
    "<h3 style=\"background-color:#ff3300\n",
    ";text-align:center;border-radius:40px;border: 1px;padding: 10px;color:white\"><b>Exercise 10<br>Score: 150</h3>"
   ]
  },
  {
   "attachments": {},
   "cell_type": "markdown",
   "metadata": {},
   "source": [
    "<h5 style=\"background-color:#1765e3;text-align:left;border-radius:40px;border: 1px;padding: 10px;color:white\"><b>1- Write a recursive function for the binary search algorithm. (150)\n",
    " </h5>"
   ]
  },
  {
   "cell_type": "code",
   "execution_count": 9,
   "metadata": {},
   "outputs": [
    {
     "name": "stdout",
     "output_type": "stream",
     "text": [
      "The index of the Element is 4\n"
     ]
    }
   ],
   "source": [
    "def binary_search(array, low, high, x):\n",
    " \n",
    "    \n",
    "    if high >= low:\n",
    "        mid = (high + low) // 2\n",
    " \n",
    "        \n",
    "        if array[mid] == x:\n",
    "            return mid\n",
    " \n",
    "        elif array[mid] > x:\n",
    "            return binary_search(array, low, mid - 1, x)\n",
    " \n",
    "        else:\n",
    "            return binary_search(array, mid + 1, high, x)\n",
    " \n",
    "    else:\n",
    "        return -1\n",
    "\n",
    "array = [ 30, 4, 6, 8, 20, 40, 60, 80]\n",
    "x = 20\n",
    "\n",
    "result = binary_search(array, 0, len(array)-1, x)\n",
    " \n",
    "if result != -1:\n",
    "    print(\"The index of the Element is\", str(result))\n",
    "else:\n",
    "    print(\"This element is not present in your Array.\")\n"
   ]
  }
 ],
 "metadata": {
  "kernelspec": {
   "display_name": "base",
   "language": "python",
   "name": "python3"
  },
  "language_info": {
   "codemirror_mode": {
    "name": "ipython",
    "version": 3
   },
   "file_extension": ".py",
   "mimetype": "text/x-python",
   "name": "python",
   "nbconvert_exporter": "python",
   "pygments_lexer": "ipython3",
   "version": "3.9.7"
  },
  "orig_nbformat": 4
 },
 "nbformat": 4,
 "nbformat_minor": 2
}
