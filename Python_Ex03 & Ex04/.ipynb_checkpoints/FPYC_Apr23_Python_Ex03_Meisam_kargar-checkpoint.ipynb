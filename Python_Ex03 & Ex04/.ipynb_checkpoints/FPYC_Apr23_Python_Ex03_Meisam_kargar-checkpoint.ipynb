{
 "cells": [
  {
   "cell_type": "markdown",
   "id": "3a4695e0",
   "metadata": {},
   "source": [
    "# Question 1:"
   ]
  },
  {
   "cell_type": "code",
   "execution_count": 15,
   "id": "1254943a",
   "metadata": {
    "scrolled": true
   },
   "outputs": [
    {
     "name": "stdout",
     "output_type": "stream",
     "text": [
      "Please enter a string charachter: php\n",
      "First character of php is p\n",
      "Middle character of php is h\n",
      "Last character of php is p\n"
     ]
    }
   ],
   "source": [
    "User = input(str('Please enter a string charachter: '))\n",
    "str_len = len(User)\n",
    "print('First character of', User,'is' , User[0])\n",
    "print('Middle character of', User, 'is', User[((str_len - 1) // 2) : ((str_len + 2) // 2)])\n",
    "print('Last character of', User, 'is', User[-1])\n"
   ]
  },
  {
   "cell_type": "markdown",
   "id": "94367eae",
   "metadata": {},
   "source": [
    "# Question 2:"
   ]
  },
  {
   "cell_type": "code",
   "execution_count": 23,
   "id": "d4d0861c",
   "metadata": {},
   "outputs": [
    {
     "name": "stdout",
     "output_type": "stream",
     "text": [
      "Enter a char: m\n",
      "Enter a char: me\n",
      "Enter a char: mei\n",
      "mei\n"
     ]
    }
   ],
   "source": [
    "Inp1 = input('Enter a char: ')\n",
    "Inp2 = input('Enter a char: ')\n",
    "Inp3 = input('Enter a char: ')\n",
    "Inp1_len,Inp2_len,Inp3_len = len(Inp1),len(Inp2),len(Inp3)\n",
    "if Inp1_len > (Inp1_len + Inp2_len + Inp3_len) / 3:\n",
    "    print(Inp1)\n",
    "elif Inp2_len > (Inp1_len + Inp2_len + Inp3_len) / 3:\n",
    "    print(Inp2)\n",
    "elif Inp3_len > (Inp1_len + Inp2_len + Inp3_len) / 3:\n",
    "    print(Inp3)"
   ]
  },
  {
   "cell_type": "markdown",
   "id": "6f6388d1",
   "metadata": {},
   "source": [
    "# Question 3:"
   ]
  },
  {
   "cell_type": "code",
   "execution_count": 24,
   "id": "eddc8c4e",
   "metadata": {},
   "outputs": [
    {
     "name": "stdout",
     "output_type": "stream",
     "text": [
      "enter a word: meisam\n",
      "enter a word: mahdi\n",
      "mahdimeisammahdi\n"
     ]
    }
   ],
   "source": [
    "Inp1 = input('enter a word: ')\n",
    "Inp2 = input('enter a word: ')\n",
    "if Inp2 in Inp1:\n",
    "    print(Inp1.replace(Inp2,''))\n",
    "elif Inp2 not in Inp1:\n",
    "    print(Inp2 + Inp1 + Inp2)"
   ]
  },
  {
   "cell_type": "markdown",
   "id": "e132dc8b",
   "metadata": {},
   "source": [
    "# Question 4:"
   ]
  },
  {
   "cell_type": "code",
   "execution_count": 27,
   "id": "a21fc197",
   "metadata": {},
   "outputs": [
    {
     "name": "stdout",
     "output_type": "stream",
     "text": [
      "For only 49.00 dollars!\n",
      "True\n",
      "True\n",
      "True\n"
     ]
    }
   ],
   "source": [
    "# Method format:\n",
    "txt = \"For only {price:.2f} dollars!\"\n",
    "print(txt.format(price = 49))\n",
    "\n",
    "# Method isalnum():\n",
    "txt = \"Company12\"\n",
    "x = txt.isalnum()\n",
    "print(x)\n",
    "\n",
    "# Method isascii():\n",
    "txt = \"Company123\"\n",
    "x = txt.isascii()\n",
    "print(x)\n",
    "\n",
    "# Method isdigit():\n",
    "txt = \"50800\"\n",
    "x = txt.isdigit()\n",
    "print(x)"
   ]
  }
 ],
 "metadata": {
  "kernelspec": {
   "display_name": "Python 3 (ipykernel)",
   "language": "python",
   "name": "python3"
  },
  "language_info": {
   "codemirror_mode": {
    "name": "ipython",
    "version": 3
   },
   "file_extension": ".py",
   "mimetype": "text/x-python",
   "name": "python",
   "nbconvert_exporter": "python",
   "pygments_lexer": "ipython3",
   "version": "3.9.7"
  }
 },
 "nbformat": 4,
 "nbformat_minor": 5
}
