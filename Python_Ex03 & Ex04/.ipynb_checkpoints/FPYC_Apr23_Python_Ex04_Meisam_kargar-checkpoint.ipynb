{
 "cells": [
  {
   "cell_type": "markdown",
   "id": "d63eff68",
   "metadata": {},
   "source": [
    "# Question 1: "
   ]
  },
  {
   "cell_type": "code",
   "execution_count": 36,
   "id": "06dc8221",
   "metadata": {},
   "outputs": [
    {
     "name": "stdout",
     "output_type": "stream",
     "text": [
      "p\n",
      "py\n",
      "pyt\n",
      "pyth\n",
      "pytho\n",
      "python\n"
     ]
    }
   ],
   "source": [
    "word = 'python'\n",
    "x = ''\n",
    "for i in word:\n",
    "    x += i\n",
    "    print(x)\n",
    "   "
   ]
  },
  {
   "cell_type": "markdown",
   "id": "7789c012",
   "metadata": {},
   "source": [
    "# Question 2:"
   ]
  },
  {
   "cell_type": "code",
   "execution_count": 13,
   "id": "e4455b2e",
   "metadata": {},
   "outputs": [
    {
     "name": "stdout",
     "output_type": "stream",
     "text": [
      "{'a': 5, 'e': 6, 'i': 3, 'o': 3, 'u': 2}\n"
     ]
    }
   ],
   "source": [
    "vowels = 'aeiou'\n",
    "# take input from the user\n",
    "ip_str = \"Python isa high-level, general-purpose programming language.\"\n",
    "# make it suitable for caseless comparisions\n",
    "\n",
    "ip_str = ip_str.casefold()\n",
    "count = {}.fromkeys(vowels,0)\n",
    "\n",
    "# count the vowels\n",
    "for char in ip_str:\n",
    "    if char in count:\n",
    "        count[char] += 1\n",
    "print(count)\n"
   ]
  },
  {
   "cell_type": "markdown",
   "id": "389d6714",
   "metadata": {},
   "source": [
    "# Question 3:"
   ]
  },
  {
   "cell_type": "code",
   "execution_count": 54,
   "id": "7e4d0a1f",
   "metadata": {},
   "outputs": [
    {
     "name": "stdout",
     "output_type": "stream",
     "text": [
      "enter a number: 5\n",
      "5 * 0 = 0\n",
      "5 * 2 = 10\n",
      "5 * 4 = 20\n",
      "5 * 6 = 30\n",
      "5 * 8 = 40\n",
      "5 * 10 = 50\n"
     ]
    }
   ],
   "source": [
    "num = int(input(\"enter a number: \"))\n",
    "for i in range(0,11,2):\n",
    "    res = num * i\n",
    "    print(f'{num} * {i} = {res}')"
   ]
  },
  {
   "cell_type": "markdown",
   "id": "3f92a341",
   "metadata": {},
   "source": [
    "# Question 4:"
   ]
  },
  {
   "cell_type": "code",
   "execution_count": 63,
   "id": "af8fde51",
   "metadata": {},
   "outputs": [
    {
     "name": "stdout",
     "output_type": "stream",
     "text": [
      "enter a number: 5\n",
      "5 / 0 = ERROR\n",
      "5 / 1 = 5\n",
      "5 / 2 = 2\n",
      "5 / 3 = 1\n",
      "5 / 4 = 1\n",
      "5 / 5 = 1\n"
     ]
    }
   ],
   "source": [
    "num = int(input(\"enter a number: \"))\n",
    "for i in range(0,6):\n",
    "    if i == 0:\n",
    "        print('5 / 0 = ERROR')\n",
    "    else:\n",
    "        res = num / i\n",
    "        res = int(res)\n",
    "        print(f'{num} / {i} = {res}')"
   ]
  }
 ],
 "metadata": {
  "kernelspec": {
   "display_name": "Python 3 (ipykernel)",
   "language": "python",
   "name": "python3"
  },
  "language_info": {
   "codemirror_mode": {
    "name": "ipython",
    "version": 3
   },
   "file_extension": ".py",
   "mimetype": "text/x-python",
   "name": "python",
   "nbconvert_exporter": "python",
   "pygments_lexer": "ipython3",
   "version": "3.9.7"
  }
 },
 "nbformat": 4,
 "nbformat_minor": 5
}
