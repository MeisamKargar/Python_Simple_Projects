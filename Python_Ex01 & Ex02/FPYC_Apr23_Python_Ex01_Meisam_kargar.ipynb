{
 "cells": [
  {
   "cell_type": "markdown",
   "id": "ef2c9eb7",
   "metadata": {},
   "source": [
    "# <center>Question 1</center>"
   ]
  },
  {
   "cell_type": "markdown",
   "id": "d7f4e2ec",
   "metadata": {},
   "source": [
    "## Change to float and integer:"
   ]
  },
  {
   "cell_type": "markdown",
   "id": "72162d65",
   "metadata": {},
   "source": [
    "# Answer"
   ]
  },
  {
   "cell_type": "code",
   "execution_count": 12,
   "id": "9c1e2e30",
   "metadata": {},
   "outputs": [
    {
     "name": "stdout",
     "output_type": "stream",
     "text": [
      "num1 is:  <class 'float'>\n",
      "num2 is:  <class 'str'>\n",
      "num3 is:  <class 'str'>\n",
      "student_num is:  <class 'str'>\n",
      "flag is:  <class 'bool'>\n"
     ]
    }
   ],
   "source": [
    "num1 = 12.6\n",
    "num2 = \"050\"\n",
    "num3 = \"20.\"\n",
    "student_num= \"s98234\"\n",
    "flag = True\n",
    "\n",
    "print(\"num1 is: \", type(num1))\n",
    "print(\"num2 is: \", type(num2))\n",
    "print(\"num3 is: \", type(num3))\n",
    "print(\"student_num is: \", type(student_num))\n",
    "print(\"flag is: \", type(flag))\n",
    "print(\"python\")"
   ]
  },
  {
   "cell_type": "code",
   "execution_count": 24,
   "id": "3d67896b",
   "metadata": {},
   "outputs": [
    {
     "name": "stdout",
     "output_type": "stream",
     "text": [
      "<class 'float'>\n",
      "<class 'float'>\n",
      "<class 'float'>\n",
      "<class 'str'>\n",
      "<class 'float'>\n"
     ]
    }
   ],
   "source": [
    "num1 = 12.6\n",
    "num2 = float(\"050\")\n",
    "num3 = float(\"20.\")\n",
    "student_num= \"s98234\" #this value consist a letter and can not convert letter to float or int\n",
    "flag = float(True)\n",
    "print(type(num1))\n",
    "print(type(flag))\n",
    "print(type(num2))\n",
    "print(type(student_num))\n",
    "print(type(num3))\n"
   ]
  },
  {
   "cell_type": "markdown",
   "id": "d96c2550",
   "metadata": {},
   "source": [
    "## Change to boolean:"
   ]
  },
  {
   "cell_type": "code",
   "execution_count": 26,
   "id": "293479a5",
   "metadata": {},
   "outputs": [
    {
     "name": "stdout",
     "output_type": "stream",
     "text": [
      "type of num1 is: <class 'bool'> and type of num2 is <class 'bool'> type of flag is <class 'bool'>\n"
     ]
    }
   ],
   "source": [
    "num1 = bool(-20)\n",
    "num2 = bool(00)\n",
    "flag = bool(\"False\")\n",
    "print(f\"type of num1 is: {type(num1)} and type of num2 is {type(num2)} type of flag is {type(flag)}\")\n"
   ]
  },
  {
   "cell_type": "markdown",
   "id": "e2c4b223",
   "metadata": {},
   "source": [
    "# <center>Question 2</center>"
   ]
  },
  {
   "cell_type": "code",
   "execution_count": 30,
   "id": "b4620dc0",
   "metadata": {},
   "outputs": [
    {
     "name": "stdout",
     "output_type": "stream",
     "text": [
      "Average is: 19.166666666666668\n"
     ]
    }
   ],
   "source": [
    "num1 = 20\n",
    "num2 = 19.\n",
    "num3 = float(\"18.5\")\n",
    "\n",
    "print(f'Average is: {(num1 + num2 + num3)/3}')"
   ]
  },
  {
   "cell_type": "markdown",
   "id": "41c9a9e2",
   "metadata": {},
   "source": [
    "#  <center> Question 3 </center>"
   ]
  },
  {
   "cell_type": "code",
   "execution_count": 34,
   "id": "9cc7a18b",
   "metadata": {},
   "outputs": [
    {
     "name": "stdout",
     "output_type": "stream",
     "text": [
      "Please enter a number:20\n",
      "Please enter a number:10\n",
      "True\n"
     ]
    }
   ],
   "source": [
    "num1 = int(input(\"Please enter a number:\"))\n",
    "num2 = int(input(\"Please enter a number:\"))\n",
    "print(num1 > num2)"
   ]
  },
  {
   "cell_type": "markdown",
   "id": "5621f271",
   "metadata": {},
   "source": [
    "# <center> Question 4 </center>"
   ]
  },
  {
   "cell_type": "code",
   "execution_count": 36,
   "id": "c657f2a8",
   "metadata": {},
   "outputs": [
    {
     "name": "stdout",
     "output_type": "stream",
     "text": [
      "Enter a number...20\n",
      "Enter secondry number...20\n",
      "area is: 400.0\n"
     ]
    }
   ],
   "source": [
    "# calculate Area\n",
    "num1 = float(input('Enter a number...'))\n",
    "num2 = float(input('Enter secondry number...'))\n",
    "\n",
    "Masahat = num1 * num2\n",
    "print(f'area is: {Masahat}')\n"
   ]
  },
  {
   "cell_type": "code",
   "execution_count": 37,
   "id": "9e774bec",
   "metadata": {
    "scrolled": true
   },
   "outputs": [
    {
     "name": "stdout",
     "output_type": "stream",
     "text": [
      "Enter a number...10\n",
      "Enter secondry number...15\n",
      "perimeter is: 50.0\n"
     ]
    }
   ],
   "source": [
    "# calculate perimeter\n",
    "number1 = float(input('Enter a number...'))\n",
    "number2 = float(input('Enter secondry number...'))\n",
    "\n",
    "perimeter = (number1 + number2) * 2\n",
    "print(f'perimeter is: {perimeter}')"
   ]
  },
  {
   "cell_type": "markdown",
   "id": "ceb96ef1",
   "metadata": {},
   "source": [
    "# <center> Question 5 </center>"
   ]
  },
  {
   "cell_type": "code",
   "execution_count": 38,
   "id": "5240f8db",
   "metadata": {},
   "outputs": [
    {
     "name": "stdout",
     "output_type": "stream",
     "text": [
      "enter a number for radius...10\n",
      "The circle area is: 314.0\n"
     ]
    }
   ],
   "source": [
    "Radius = float(input('enter a number for radius...'))\n",
    "Area = 3.14 * Radius * Radius\n",
    "print(f'The circle area is: {Area}')"
   ]
  },
  {
   "cell_type": "markdown",
   "id": "608a3238",
   "metadata": {},
   "source": [
    "# <center> Question 6 </center>"
   ]
  },
  {
   "cell_type": "code",
   "execution_count": 46,
   "id": "4d975b09",
   "metadata": {},
   "outputs": [
    {
     "name": "stdout",
     "output_type": "stream",
     "text": [
      "first assign:  200 200 200\n",
      "second assign:  10 20 145\n",
      "third assign:  30 100 200\n"
     ]
    }
   ],
   "source": [
    "num1 = num2 = num3 = 200\n",
    "print('first assign: ', num1,num2,num3)\n",
    "\n",
    "num1 , num2 , num3 = 10, 20, 145\n",
    "print('second assign: ', num1,num2,num3)\n",
    "\n",
    "num1 , num2 , num3 = 30, 100, 200\n",
    "print('third assign: ', num1,num2,num3)"
   ]
  }
 ],
 "metadata": {
  "kernelspec": {
   "display_name": "Python 3 (ipykernel)",
   "language": "python",
   "name": "python3"
  },
  "language_info": {
   "codemirror_mode": {
    "name": "ipython",
    "version": 3
   },
   "file_extension": ".py",
   "mimetype": "text/x-python",
   "name": "python",
   "nbconvert_exporter": "python",
   "pygments_lexer": "ipython3",
   "version": "3.9.7"
  }
 },
 "nbformat": 4,
 "nbformat_minor": 5
}
