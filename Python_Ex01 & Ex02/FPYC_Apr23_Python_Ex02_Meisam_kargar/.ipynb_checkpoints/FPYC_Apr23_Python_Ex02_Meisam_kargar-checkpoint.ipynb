{
 "cells": [
  {
   "cell_type": "markdown",
   "id": "d0b2ffcd",
   "metadata": {},
   "source": [
    "# Question 1"
   ]
  },
  {
   "cell_type": "code",
   "execution_count": 2,
   "id": "427abecf",
   "metadata": {
    "scrolled": true
   },
   "outputs": [
    {
     "name": "stdout",
     "output_type": "stream",
     "text": [
      "Enter a number: 10\n",
      "10.0\n"
     ]
    }
   ],
   "source": [
    "Abs = float(input('Enter a number: '))\n",
    "if Abs < 0:\n",
    "    print(-Abs)\n",
    "else:\n",
    "    print(Abs)"
   ]
  },
  {
   "cell_type": "markdown",
   "id": "6e66c432",
   "metadata": {},
   "source": [
    "# Question 2"
   ]
  },
  {
   "cell_type": "code",
   "execution_count": 5,
   "id": "f2d5c924",
   "metadata": {},
   "outputs": [
    {
     "name": "stdout",
     "output_type": "stream",
     "text": [
      "Input first number: 12\n",
      "Input second number: 13\n",
      "Input third number: 14\n",
      "The median is 13.0\n"
     ]
    }
   ],
   "source": [
    "a = float(input(\"Input first number: \"))\n",
    "b = float(input(\"Input second number: \"))\n",
    "c = float(input(\"Input third number: \"))\n",
    "if a > b:\n",
    "    if a < c:\n",
    "        median = a\n",
    "    elif b > c:\n",
    "        median = b\n",
    "    else:\n",
    "        median = c\n",
    "else:\n",
    "    if a > c:\n",
    "        median = a\n",
    "    elif b < c:\n",
    "        median = b\n",
    "    else:\n",
    "        median = c\n",
    "\n",
    "print(\"The median is\", median)"
   ]
  },
  {
   "cell_type": "markdown",
   "id": "c543e9d5",
   "metadata": {},
   "source": [
    "# Question 3"
   ]
  },
  {
   "cell_type": "code",
   "execution_count": 16,
   "id": "b752107d",
   "metadata": {},
   "outputs": [
    {
     "name": "stdout",
     "output_type": "stream",
     "text": [
      "Enter your username: meisam\n",
      "Enter your password:  1\n",
      "The password entered is wrong\n"
     ]
    }
   ],
   "source": [
    "userName = 'meisam'\n",
    "password = 123\n",
    "\n",
    "Inp1 = str(input('Enter your username: '))\n",
    "Inp2 = int(input('Enter your password:  '))\n",
    "\n",
    "if Inp1 == userName and Inp2 == password:\n",
    "    print('Wellcome my Dear')\n",
    "elif Inp1 != userName and Inp2 == password:\n",
    "    print('The username entered is wrong')\n",
    "elif Inp1 == userName and Inp1 != password:\n",
    "    print('The password entered is wrong')\n",
    "elif Inp1 != userName and Inp2 != password:\n",
    "    print('the entered information is wrong')"
   ]
  }
 ],
 "metadata": {
  "kernelspec": {
   "display_name": "Python 3 (ipykernel)",
   "language": "python",
   "name": "python3"
  },
  "language_info": {
   "codemirror_mode": {
    "name": "ipython",
    "version": 3
   },
   "file_extension": ".py",
   "mimetype": "text/x-python",
   "name": "python",
   "nbconvert_exporter": "python",
   "pygments_lexer": "ipython3",
   "version": "3.9.7"
  }
 },
 "nbformat": 4,
 "nbformat_minor": 5
}
