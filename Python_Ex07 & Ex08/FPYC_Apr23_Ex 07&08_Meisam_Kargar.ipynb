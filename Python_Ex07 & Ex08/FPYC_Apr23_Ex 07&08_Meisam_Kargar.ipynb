{
 "cells": [
  {
   "cell_type": "markdown",
   "metadata": {},
   "source": [
    "<h5 style=\"background-color:#1765e3;text-align:left;border-radius:40px;border: 1px;padding: 10px;\"><b>1- Write the product management project (exercise 6) using functions. (150)</h5>"
   ]
  },
  {
   "cell_type": "code",
   "execution_count": null,
   "metadata": {},
   "outputs": [],
   "source": [
    "# تابعی برای نمایش لیست محصولات\n",
    "def display_list(product_list):\n",
    "    print(\"Product available :\")\n",
    "    for product in product_list:\n",
    "        print(product[\"name\"], \": \", product[\"price\"], \"Toman\")\n",
    "# تابعی برای جستجوی محصول بر اساس نام\n",
    "def search_product(product_list, name):\n",
    "    found = False\n",
    "    for product in product_list:\n",
    "        if name == product[\"name\"]:\n",
    "            found = True\n",
    "            print(product[\"name\"], \": \", product[\"price\"], \"Toman\")\n",
    "    if not found:\n",
    "        print(\" any product not found!\")\n",
    "# تابعی برای اضافه کردن محصول جدید\n",
    "def add_product(product_list, name, price):\n",
    "    product = {\"name\": name, \"price\": price}\n",
    "    product_list.append(product)\n",
    "    print(name, \" Poduct is added successfuly\")\n",
    "# تابعی برای حذف محصول\n",
    "def delete_product(product_list, name):\n",
    "    for product in product_list:\n",
    "        if name == product[\"name\"]:\n",
    "            product_list.remove(product)\n",
    "            print(name, \" Product is deleted successfuly\")\n",
    "            return\n",
    "    print(\"Product is not found\")\n",
    "# لیست اولیه محصولات\n",
    "products = [\n",
    "    {\"name\": \"Meat\", \"price\": 500},\n",
    "    {\"name\": \"buter\", \"price\": 250},\n",
    "    {\"name\": \"apple\", \"price\": 100}\n",
    "]\n",
    "# نمایش منوی کاربری\n",
    "while True:\n",
    "    print(\" Please select one option of list :\\n\")\n",
    "    print(\"1- product list show \")\n",
    "    print(\"2- search \")\n",
    "    print(\"3- add  \")\n",
    "    print(\"4- delete \")\n",
    "    print(\"5- exit\")\n",
    "    choice = input(\"\\n Enter your option: \")\n",
    "    # بررسی گزینه انتخاب شده توسط کاربر\n",
    "    if choice == \"1\":\n",
    "        display_list(products)\n",
    "    elif choice == \"2\":\n",
    "        name = input(\"Input Product name: \")\n",
    "        search_product(products, name)\n",
    "    elif choice == \"3\":\n",
    "        name = input(\"Enter a new Product: \")\n",
    "        price = int(input(\"Enter a new price: \"))\n",
    "        add_product(products, name, price)\n",
    "    elif choice == \"4\":\n",
    "        name = input(\"for delete product enter name product:\")\n",
    "        delete_product(products, name)\n",
    "    elif choice == \"5\":\n",
    "        break\n",
    "    else:\n",
    "        print(\"Your command is not found!\")"
   ]
  },
  {
   "cell_type": "markdown",
   "metadata": {},
   "source": [
    "<h5 style=\"background-color:#1765e3;text-align:left;border-radius:40px;border: 1px;padding: 10px;\"><b>2- Write the question 2 of exercise 5 using functions (100)</h5>"
   ]
  },
  {
   "cell_type": "code",
   "execution_count": null,
   "metadata": {},
   "outputs": [],
   "source": [
    "def comprator():\n",
    "    Inp = input('Enter your numbers: ')\n",
    "    Inp = Inp.split()\n",
    "    for i in Inp:\n",
    "        Operator1 = int(Inp[0])\n",
    "        Operator2 = int(Inp[2])\n",
    "    if Inp[1] == '+':\n",
    "        res = Operator1 + Operator2\n",
    "        print(f'{Operator1} + {Operator2} = {res}')\n",
    "    elif Inp[1] == '-':\n",
    "        res = Operator1 - Operator2\n",
    "        print(f'{Operator1} - {Operator2} = {res}')\n",
    "    elif Inp[1] == '*':\n",
    "        res = Operator1 * Operator2\n",
    "        print(f'{Operator1} * {Operator2} = {res}')\n",
    "    elif Inp[1] == '/':\n",
    "        if Operator2 == 0:\n",
    "            print(f'{Operator1} / {Operator2} = Error')\n",
    "        else:\n",
    "            print(res) \n",
    "comprator()"
   ]
  },
  {
   "cell_type": "markdown",
   "metadata": {},
   "source": [
    "<h5 style=\"background-color:#1765e3;text-align:left;border-radius:40px;border: 1px;padding: 10px;\"><b>3- Receive two strings from the user in the following format, then receive one of the +, - and * and perform the requested calculations.(150)</h5>"
   ]
  },
  {
   "cell_type": "code",
   "execution_count": null,
   "metadata": {},
   "outputs": [],
   "source": [
    "def lst_ind():\n",
    "    user1 = input(\"enter number 1: \")   \n",
    "    user2 = input(\"enter number 2: \")\n",
    "    user3 = input(\"enter operand: \")\n",
    "\n",
    "    user1 = user1.split()\n",
    "    user2 = user2.split()\n",
    "    \n",
    "    a = [int(i) for i in user1]\n",
    "    b = [int(j) for j in user2]\n",
    "\n",
    "    if user3 == '+':\n",
    "        res_lt = [] # declaration of the list  \n",
    "        for x in range (0, len (a)):  \n",
    "            res_lt.append( a[x] + b[x]) \n",
    "\n",
    "        print(res_lt)    \n",
    "    elif user3 == '-':\n",
    "        res_lt = [] # declaration of the list  \n",
    "        for x in range (0, len (a)):  \n",
    "            res_lt.append( a[x] - b[x]) \n",
    "\n",
    "        print(res_lt) \n",
    "\n",
    "    elif user3 == '*':\n",
    "        res_lt = [] # declaration of the list  \n",
    "        for x in range (0, len (a)):  \n",
    "            res_lt.append( a[x] * b[x]) \n",
    "\n",
    "        print(f'youe answer is: {res_lt}') \n",
    "lst_ind()"
   ]
  },
  {
   "cell_type": "markdown",
   "metadata": {},
   "source": [
    "<h5 style=\"background-color:#1765e3;text-align:left;border-radius:40px;border: 1px;padding: 10px;\"><b>1- (Dictionary) : Answer the following questions based on the dictionary topic.\n",
    "</h5>"
   ]
  },
  {
   "cell_type": "markdown",
   "metadata": {},
   "source": [
    "<h5>A) Create a product dictionary that contains the following information.</h5>"
   ]
  },
  {
   "cell_type": "code",
   "execution_count": 87,
   "metadata": {},
   "outputs": [
    {
     "name": "stdout",
     "output_type": "stream",
     "text": [
      "{'Product_code': '131', 'product_name': 'laptop', 'product_price': 120000, 'product_quantity': '20', 'product_sales_branch': 'Tehran'}\n"
     ]
    }
   ],
   "source": [
    "product_dict = {\"Product_code\":\"131\"\n",
    "                ,\"product_name\":\"laptop\"\n",
    "                , \"product_price\":120000\n",
    "                , \"product_quantity\": \"20\"\n",
    "                , \"product_sales_branch\":\"Tehran\"\n",
    "               }\n",
    "print(product_dict)"
   ]
  },
  {
   "cell_type": "markdown",
   "metadata": {},
   "source": [
    "<h5>B) Get a number from the user and create a list of products as long as the entered number.</h5>"
   ]
  },
  {
   "cell_type": "code",
   "execution_count": 22,
   "metadata": {},
   "outputs": [
    {
     "name": "stdout",
     "output_type": "stream",
     "text": [
      "[{'Product_code': 213, 'product_name': 'lap', 'product_price': 20000, 'product_quantity': 2, 'product_sales_branch': 'tehran'}, {'Product_code': 16, 'product_name': 'ram', 'product_price': 3000, 'product_quantity': 4, 'product_sales_branch': 'shiraz'}]/n"
     ]
    }
   ],
   "source": [
    "product_list = []\n",
    "count = int(input(\"Enter a number: \"))\n",
    "\n",
    "for i in range(count):\n",
    "    code = int(input(\"enter a code: \"))\n",
    "    name = input(\"enter a name: \")\n",
    "    price = int(input(\"enter a price: \"))  \n",
    "    quantity = int(input(\"enter a quantity: \"))  \n",
    "    branch = input(\"enter a branch name: \")\n",
    "    products = {}\n",
    "    products.update({\"Product_code\": code, \"product_name\": name, \"product_price\":price, \"product_quantity\":quantity, \"product_sales_branch\":branch})\n",
    "    product_list.append(products)\n",
    "print(product_list, end='/n')\n",
    "  "
   ]
  },
  {
   "cell_type": "markdown",
   "metadata": {},
   "source": [
    "<h5>C) Display the price of the first product.</h5>"
   ]
  },
  {
   "cell_type": "code",
   "execution_count": 2,
   "metadata": {},
   "outputs": [
    {
     "name": "stdout",
     "output_type": "stream",
     "text": [
      "first product price is: 150000\n"
     ]
    }
   ],
   "source": [
    "print(f'first product price is: {product_list[0][\"product_price\"]}')"
   ]
  },
  {
   "cell_type": "markdown",
   "metadata": {},
   "source": [
    "<h5>D) Remove the branch from all products.</h5>"
   ]
  },
  {
   "cell_type": "code",
   "execution_count": 3,
   "metadata": {},
   "outputs": [
    {
     "name": "stdout",
     "output_type": "stream",
     "text": [
      "This {'Product_code': 562, 'product_name': 'Ram', 'product_price': 256000, 'product_quantity': 4} dictionary is after remove branch\n"
     ]
    }
   ],
   "source": [
    "for key in product_list:\n",
    "    branch = key.pop('product_sales_branch')\n",
    "print(f'This {key} dictionary is after remove branch')"
   ]
  },
  {
   "cell_type": "markdown",
   "metadata": {},
   "source": [
    "<h5>E) Display product prices in a list in order.</h5>"
   ]
  },
  {
   "cell_type": "code",
   "execution_count": 39,
   "metadata": {},
   "outputs": [
    {
     "name": "stdout",
     "output_type": "stream",
     "text": [
      "price sorted is: 20000\n",
      "price sorted is: 3000\n",
      "price sorted is: 2000\n",
      "price sorted is: 2000\n"
     ]
    }
   ],
   "source": [
    "newDict = {}\n",
    "for i in product_list:\n",
    "    newDict['customer: '] = i\n",
    "    for j in newDict.values():\n",
    "        sorted(['product_price'])\n",
    "        print(f\"price sorted is: {j['product_price']}\")\n",
    "        "
   ]
  },
  {
   "cell_type": "markdown",
   "metadata": {},
   "source": [
    "<h5> F) Show average prices.</h5>"
   ]
  },
  {
   "cell_type": "code",
   "execution_count": 55,
   "metadata": {},
   "outputs": [
    {
     "name": "stdout",
     "output_type": "stream",
     "text": [
      "{3: {'product_name': 'hard', 'product_price': 30000}, 2: {'product_name': 'ram', 'product_price': 20000}}\n"
     ]
    }
   ],
   "source": [
    "pro_dict = {}\n",
    "count = 3\n",
    "for i in range(count):\n",
    "    ID = int(input(\"enter a ID: \"))\n",
    "    name = input(\"enter a product name: \")\n",
    "    price = int(input(\"enter a price: \"))  \n",
    "    products = {}\n",
    "    products.update({ \"product_name\": name, \"product_price\":price})\n",
    "    pro_dict[ID] = products\n",
    "print(pro_dict, end=\"\\n\")"
   ]
  },
  {
   "cell_type": "code",
   "execution_count": 70,
   "metadata": {},
   "outputs": [
    {
     "data": {
      "text/plain": [
       "25000.0"
      ]
     },
     "execution_count": 70,
     "metadata": {},
     "output_type": "execute_result"
    }
   ],
   "source": [
    "l = []\n",
    "for i in pro_dict.values():\n",
    "   l.append(i['product_price'])\n",
    "avg = sum(l)/len(pro_dict)\n",
    "avg\n",
    "   \n",
    "    "
   ]
  },
  {
   "cell_type": "code",
   "execution_count": 12,
   "metadata": {},
   "outputs": [
    {
     "name": "stdout",
     "output_type": "stream",
     "text": [
      "your insurance is:  what is that\n"
     ]
    }
   ],
   "source": [
    "\n",
    "def calInsurance(salary,percent):\n",
    "    insuranceType = (7, 9, 10)\n",
    "    if percent in insuranceType:\n",
    "        return salary * (percent / 100)\n",
    "    else:\n",
    "        return ('what is that')\n",
    "     \n",
    "salary = int(input('Enter your slary: '))\n",
    "percent = int(input('Enter percentage: '))\n",
    "print('your insurance is: ', calInsurance(percent, salary))"
   ]
  },
  {
   "cell_type": "code",
   "execution_count": 15,
   "metadata": {},
   "outputs": [
    {
     "name": "stdout",
     "output_type": "stream",
     "text": [
      "[1, 2, 3, 'hello', 'goodby']\n"
     ]
    },
    {
     "ename": "TypeError",
     "evalue": "'tuple' object does not support item assignment",
     "output_type": "error",
     "traceback": [
      "\u001b[1;31m---------------------------------------------------------------------------\u001b[0m",
      "\u001b[1;31mTypeError\u001b[0m                                 Traceback (most recent call last)",
      "\u001b[1;32m~\\AppData\\Local\\Temp/ipykernel_8616/1567601609.py\u001b[0m in \u001b[0;36m<module>\u001b[1;34m\u001b[0m\n\u001b[0;32m      4\u001b[0m \u001b[1;31m# -----------------------------\u001b[0m\u001b[1;33m\u001b[0m\u001b[1;33m\u001b[0m\u001b[0m\n\u001b[0;32m      5\u001b[0m \u001b[0mtouple1\u001b[0m \u001b[1;33m=\u001b[0m \u001b[1;33m(\u001b[0m\u001b[1;36m1\u001b[0m\u001b[1;33m,\u001b[0m\u001b[1;36m2\u001b[0m\u001b[1;33m,\u001b[0m\u001b[1;36m3\u001b[0m\u001b[1;33m,\u001b[0m\u001b[1;34m'hello'\u001b[0m\u001b[1;33m,\u001b[0m \u001b[1;32mTrue\u001b[0m\u001b[1;33m)\u001b[0m\u001b[1;33m\u001b[0m\u001b[1;33m\u001b[0m\u001b[0m\n\u001b[1;32m----> 6\u001b[1;33m \u001b[0mtouple1\u001b[0m\u001b[1;33m[\u001b[0m\u001b[1;36m4\u001b[0m\u001b[1;33m]\u001b[0m \u001b[1;33m=\u001b[0m \u001b[1;34m'goodby'\u001b[0m\u001b[1;33m\u001b[0m\u001b[1;33m\u001b[0m\u001b[0m\n\u001b[0m",
      "\u001b[1;31mTypeError\u001b[0m: 'tuple' object does not support item assignment"
     ]
    }
   ],
   "source": [
    "list1 = [1,2,3,'hello',True]\n",
    "list1[4] = 'goodby'\n",
    "print(list1)\n",
    "# -----------------------------\n",
    "touple1 = (1,2,3,'hello', True)\n",
    "touple1[4] = 'goodby' # becuase touple is not changeable we have an error\n"
   ]
  },
  {
   "cell_type": "code",
   "execution_count": 20,
   "metadata": {},
   "outputs": [
    {
     "name": "stdout",
     "output_type": "stream",
     "text": [
      "concated t1 and t2: ('One item', 'hello', 1, 2, True)\n",
      "yes is there\n"
     ]
    }
   ],
   "source": [
    "t = ()  # This is an empty touple\n",
    "t1 = ('One item', )  # This is a one item touple\n",
    "t2 = ('hello', 1, 2, True) # This is a multi items touple\n",
    "t3 = t1 + t2 # concatate t1 with t2\n",
    "print(f'concated t1 and t2: {t3}', end='\\n')\n",
    "if 1 in t3:\n",
    "    print('yes is there')\n",
    "else:\n",
    "    print(\"no this value not in touple\")\n",
    "\n",
    "\n"
   ]
  },
  {
   "cell_type": "code",
   "execution_count": 39,
   "metadata": {},
   "outputs": [
    {
     "data": {
      "text/plain": [
       "[1, 2, 4, 5, 8, 20, 20, 40, 50, 80, 100, 110]"
      ]
     },
     "execution_count": 39,
     "metadata": {},
     "output_type": "execute_result"
    }
   ],
   "source": [
    "numbers = (10, 20, 30, 5, 40, 20, 4, 2, 1, 8, 80)\n",
    "numbers = numbers + (100, )\n",
    "numbers = numbers[0:3] + (50,) + numbers[3:]\n",
    "numbers = numbers[0:2] + numbers[3:]\n",
    "numbers =  (110, ) + numbers[1:]\n",
    "numbers = sorted(numbers)\n",
    "numbers"
   ]
  }
 ],
 "metadata": {
  "kernelspec": {
   "display_name": "Python 3 (ipykernel)",
   "language": "python",
   "name": "python3"
  },
  "language_info": {
   "codemirror_mode": {
    "name": "ipython",
    "version": 3
   },
   "file_extension": ".py",
   "mimetype": "text/x-python",
   "name": "python",
   "nbconvert_exporter": "python",
   "pygments_lexer": "ipython3",
   "version": "3.9.7"
  }
 },
 "nbformat": 4,
 "nbformat_minor": 2
}
