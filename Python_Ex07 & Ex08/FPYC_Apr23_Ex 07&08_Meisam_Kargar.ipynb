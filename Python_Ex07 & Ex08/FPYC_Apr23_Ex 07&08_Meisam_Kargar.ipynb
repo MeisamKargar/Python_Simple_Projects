{
 "cells": [
  {
   "attachments": {},
   "cell_type": "markdown",
   "metadata": {},
   "source": [
    "<div>\n",
    "<h2 style=\"background-color:#E06469;text-align:center;border-radius:40px;border: 1px;padding: 20px;\"><b>Filoger Hands On Prerequisite Python For AI <br>Exercises 07 & 08 | Deadline: 2023 9 May <br> Score: 700</h2>\n",
    "</div>"
   ]
  },
  {
   "attachments": {},
   "cell_type": "markdown",
   "metadata": {},
   "source": [
    "# Name"
   ]
  },
  {
   "attachments": {},
   "cell_type": "markdown",
   "metadata": {},
   "source": [
    "## meisam kargar"
   ]
  },
  {
   "attachments": {},
   "cell_type": "markdown",
   "metadata": {},
   "source": [
    "<h3 style=\"background-color:#ff3300\n",
    ";text-align:center;border-radius:40px;border: 1px;padding: 10px;\"><b>Exercises 07<br>Score: 400</h3>"
   ]
  },
  {
   "attachments": {},
   "cell_type": "markdown",
   "metadata": {},
   "source": [
    "<h5 style=\"background-color:#1765e3;text-align:left;border-radius:40px;border: 1px;padding: 10px;\"><b>1- Write the product management project (exercise 6) using functions. (150)</h5>"
   ]
  },
  {
   "cell_type": "code",
   "execution_count": null,
   "metadata": {},
   "outputs": [],
   "source": [
    "# تابعی برای نمایش لیست محصولات\n",
    "def display_list(product_list):\n",
    "    print(\"Product available :\")\n",
    "    for product in product_list:\n",
    "        print(product[\"name\"], \": \", product[\"price\"], \"Toman\")\n",
    "# تابعی برای جستجوی محصول بر اساس نام\n",
    "def search_product(product_list, name):\n",
    "    found = False\n",
    "    for product in product_list:\n",
    "        if name == product[\"name\"]:\n",
    "            found = True\n",
    "            print(product[\"name\"], \": \", product[\"price\"], \"Toman\")\n",
    "    if not found:\n",
    "        print(\" any product not found!\")\n",
    "# تابعی برای اضافه کردن محصول جدید\n",
    "def add_product(product_list, name, price):\n",
    "    product = {\"name\": name, \"price\": price}\n",
    "    product_list.append(product)\n",
    "    print(name, \" Poduct is added successfuly\")\n",
    "# تابعی برای حذف محصول\n",
    "def delete_product(product_list, name):\n",
    "    for product in product_list:\n",
    "        if name == product[\"name\"]:\n",
    "            product_list.remove(product)\n",
    "            print(name, \" Product is deleted successfuly\")\n",
    "            return\n",
    "    print(\"Product is not found\")\n",
    "# لیست اولیه محصولات\n",
    "products = [\n",
    "    {\"name\": \"Meat\", \"price\": 500},\n",
    "    {\"name\": \"buter\", \"price\": 250},\n",
    "    {\"name\": \"apple\", \"price\": 100}\n",
    "]\n",
    "# نمایش منوی کاربری\n",
    "while True:\n",
    "    print(\" Please select one option of list :\\n\")\n",
    "    print(\"1- product list show \")\n",
    "    print(\"2- search \")\n",
    "    print(\"3- add  \")\n",
    "    print(\"4- delete \")\n",
    "    print(\"5- exit\")\n",
    "    choice = input(\"\\n Enter your option: \")\n",
    "    # بررسی گزینه انتخاب شده توسط کاربر\n",
    "    if choice == \"1\":\n",
    "        display_list(products)\n",
    "    elif choice == \"2\":\n",
    "        name = input(\"Input Product name: \")\n",
    "        search_product(products, name)\n",
    "    elif choice == \"3\":\n",
    "        name = input(\"Enter a new Product: \")\n",
    "        price = int(input(\"Enter a new price: \"))\n",
    "        add_product(products, name, price)\n",
    "    elif choice == \"4\":\n",
    "        name = input(\"for delete product enter name product:\")\n",
    "        delete_product(products, name)\n",
    "    elif choice == \"5\":\n",
    "        break\n",
    "    else:\n",
    "        print(\"Your command is not found!\")"
   ]
  },
  {
   "attachments": {},
   "cell_type": "markdown",
   "metadata": {},
   "source": [
    "<h5 style=\"background-color:#1765e3;text-align:left;border-radius:40px;border: 1px;padding: 10px;\"><b>2- Write the question 2 of exercise 5 using functions (100)</h5>"
   ]
  },
  {
   "cell_type": "code",
   "execution_count": null,
   "metadata": {},
   "outputs": [],
   "source": [
    "def comprator():\n",
    "    Inp = input('Enter your numbers: ')\n",
    "    Inp = Inp.split()\n",
    "    for i in Inp:\n",
    "        Operator1 = int(Inp[0])\n",
    "        Operator2 = int(Inp[2])\n",
    "    if Inp[1] == '+':\n",
    "        res = Operator1 + Operator2\n",
    "        print(f'{Operator1} + {Operator2} = {res}')\n",
    "    elif Inp[1] == '-':\n",
    "        res = Operator1 - Operator2\n",
    "        print(f'{Operator1} - {Operator2} = {res}')\n",
    "    elif Inp[1] == '*':\n",
    "        res = Operator1 * Operator2\n",
    "        print(f'{Operator1} * {Operator2} = {res}')\n",
    "    elif Inp[1] == '/':\n",
    "        if Operator2 == 0:\n",
    "            print(f'{Operator1} / {Operator2} = Error')\n",
    "        else:\n",
    "            print(res) \n",
    "comprator()"
   ]
  },
  {
   "attachments": {},
   "cell_type": "markdown",
   "metadata": {},
   "source": [
    "<h5 style=\"background-color:#1765e3;text-align:left;border-radius:40px;border: 1px;padding: 10px;\"><b>3- Receive two strings from the user in the following format, then receive one of the +, - and * and perform the requested calculations.(150)</h5>"
   ]
  },
  {
   "cell_type": "code",
   "execution_count": null,
   "metadata": {},
   "outputs": [],
   "source": [
    "def lst_ind():\n",
    "    user1 = input(\"enter number 1: \")   \n",
    "    user2 = input(\"enter number 2: \")\n",
    "    user3 = input(\"enter operand: \")\n",
    "\n",
    "    user1 = user1.split()\n",
    "    user2 = user2.split()\n",
    "    \n",
    "    a = [int(i) for i in user1]\n",
    "    b = [int(j) for j in user2]\n",
    "\n",
    "    if user3 == '+':\n",
    "        res_lt = [] # declaration of the list  \n",
    "        for x in range (0, len (a)):  \n",
    "            res_lt.append( a[x] + b[x]) \n",
    "\n",
    "        print(res_lt)    \n",
    "    elif user3 == '-':\n",
    "        res_lt = [] # declaration of the list  \n",
    "        for x in range (0, len (a)):  \n",
    "            res_lt.append( a[x] - b[x]) \n",
    "\n",
    "        print(res_lt) \n",
    "\n",
    "    elif user3 == '*':\n",
    "        res_lt = [] # declaration of the list  \n",
    "        for x in range (0, len (a)):  \n",
    "            res_lt.append( a[x] * b[x]) \n",
    "\n",
    "        print(f'youe answer is: {res_lt}') \n",
    "lst_ind()"
   ]
  },
  {
   "attachments": {},
   "cell_type": "markdown",
   "metadata": {},
   "source": [
    "<h3 style=\"background-color:#ff3300\n",
    ";text-align:center;border-radius:40px;border: 1px;padding: 10px;\"><b>Exercises 08<br>Score: 300</h3>"
   ]
  },
  {
   "attachments": {},
   "cell_type": "markdown",
   "metadata": {},
   "source": [
    "<h5 style=\"background-color:#1765e3;text-align:left;border-radius:40px;border: 1px;padding: 10px;\"><b>1- (Dictionary) : Answer the following questions based on the dictionary topic.\n",
    "</h5>"
   ]
  },
  {
   "attachments": {},
   "cell_type": "markdown",
   "metadata": {},
   "source": [
    "<h5>A) Create a product dictionary that contains the following information.</h5>"
   ]
  },
  {
   "cell_type": "code",
   "execution_count": 87,
   "metadata": {},
   "outputs": [
    {
     "name": "stdout",
     "output_type": "stream",
     "text": [
      "{'Product_code': '131', 'product_name': 'laptop', 'product_price': 120000, 'product_quantity': '20', 'product_sales_branch': 'Tehran'}\n"
     ]
    }
   ],
   "source": [
    "product_dict = {\"Product_code\":\"131\"\n",
    "                ,\"product_name\":\"laptop\"\n",
    "                , \"product_price\":120000\n",
    "                , \"product_quantity\": \"20\"\n",
    "                , \"product_sales_branch\":\"Tehran\"\n",
    "               }\n",
    "print(product_dict)"
   ]
  },
  {
   "attachments": {},
   "cell_type": "markdown",
   "metadata": {},
   "source": [
    "<h5>B) Get a number from the user and create a list of products as long as the entered number.</h5>"
   ]
  },
  {
   "cell_type": "code",
   "execution_count": 22,
   "metadata": {},
   "outputs": [
    {
     "name": "stdout",
     "output_type": "stream",
     "text": [
      "[{'Product_code': 213, 'product_name': 'lap', 'product_price': 20000, 'product_quantity': 2, 'product_sales_branch': 'tehran'}, {'Product_code': 16, 'product_name': 'ram', 'product_price': 3000, 'product_quantity': 4, 'product_sales_branch': 'shiraz'}]/n"
     ]
    }
   ],
   "source": [
    "product_list = []\n",
    "count = int(input(\"Enter a number: \"))\n",
    "\n",
    "for i in range(count):\n",
    "    code = int(input(\"enter a code: \"))\n",
    "    name = input(\"enter a name: \")\n",
    "    price = int(input(\"enter a price: \"))  \n",
    "    quantity = int(input(\"enter a quantity: \"))  \n",
    "    branch = input(\"enter a branch name: \")\n",
    "    products = {}\n",
    "    products.update({\"Product_code\": code, \"product_name\": name, \"product_price\":price, \"product_quantity\":quantity, \"product_sales_branch\":branch})\n",
    "    product_list.append(products)\n",
    "print(product_list, end='/n')\n",
    "  "
   ]
  },
  {
   "attachments": {},
   "cell_type": "markdown",
   "metadata": {},
   "source": [
    "<h5>C) Display the price of the first product.</h5>"
   ]
  },
  {
   "cell_type": "code",
   "execution_count": 2,
   "metadata": {},
   "outputs": [
    {
     "name": "stdout",
     "output_type": "stream",
     "text": [
      "first product price is: 150000\n"
     ]
    }
   ],
   "source": [
    "print(f'first product price is: {product_list[0][\"product_price\"]}')"
   ]
  },
  {
   "attachments": {},
   "cell_type": "markdown",
   "metadata": {},
   "source": [
    "<h5>D) Remove the branch from all products.</h5>"
   ]
  },
  {
   "cell_type": "code",
   "execution_count": 3,
   "metadata": {},
   "outputs": [
    {
     "name": "stdout",
     "output_type": "stream",
     "text": [
      "This {'Product_code': 562, 'product_name': 'Ram', 'product_price': 256000, 'product_quantity': 4} dictionary is after remove branch\n"
     ]
    }
   ],
   "source": [
    "for key in product_list:\n",
    "    branch = key.pop('product_sales_branch')\n",
    "print(f'This {key} dictionary is after remove branch')"
   ]
  },
  {
   "attachments": {},
   "cell_type": "markdown",
   "metadata": {},
   "source": [
    "<h5>E) Display product prices in a list in order.</h5>"
   ]
  },
  {
   "cell_type": "code",
   "execution_count": 39,
   "metadata": {},
   "outputs": [
    {
     "name": "stdout",
     "output_type": "stream",
     "text": [
      "price sorted is: 20000\n",
      "price sorted is: 3000\n",
      "price sorted is: 2000\n",
      "price sorted is: 2000\n"
     ]
    }
   ],
   "source": [
    "newDict = {}\n",
    "for i in product_list:\n",
    "    newDict['customer: '] = i\n",
    "    for j in newDict.values():\n",
    "        sorted(['product_price'])\n",
    "        print(f\"price sorted is: {j['product_price']}\")\n",
    "        "
   ]
  },
  {
   "attachments": {},
   "cell_type": "markdown",
   "metadata": {},
   "source": [
    "<h5> F) Show average prices.</h5>"
   ]
  },
  {
   "cell_type": "code",
   "execution_count": 55,
   "metadata": {},
   "outputs": [
    {
     "name": "stdout",
     "output_type": "stream",
     "text": [
      "{3: {'product_name': 'hard', 'product_price': 30000}, 2: {'product_name': 'ram', 'product_price': 20000}}\n"
     ]
    }
   ],
   "source": [
    "pro_dict = {}\n",
    "count = 3\n",
    "for i in range(count):\n",
    "    ID = int(input(\"enter a ID: \"))\n",
    "    name = input(\"enter a product name: \")\n",
    "    price = int(input(\"enter a price: \"))  \n",
    "    products = {}\n",
    "    products.update({ \"product_name\": name, \"product_price\":price})\n",
    "    pro_dict[ID] = products\n",
    "print(pro_dict, end=\"\\n\")"
   ]
  },
  {
   "cell_type": "code",
   "execution_count": 70,
   "metadata": {},
   "outputs": [
    {
     "data": {
      "text/plain": [
       "25000.0"
      ]
     },
     "execution_count": 70,
     "metadata": {},
     "output_type": "execute_result"
    }
   ],
   "source": [
    "l = []\n",
    "for i in pro_dict.values():\n",
    "   l.append(i['product_price'])\n",
    "avg = sum(l)/len(pro_dict)\n",
    "avg\n",
    "   \n",
    "    "
   ]
  },
  {
   "cell_type": "code",
   "execution_count": 12,
   "metadata": {},
   "outputs": [
    {
     "name": "stdout",
     "output_type": "stream",
     "text": [
      "your insurance is:  what is that\n"
     ]
    }
   ],
   "source": [
    "\n",
    "def calInsurance(salary,percent):\n",
    "    insuranceType = (7, 9, 10)\n",
    "    if percent in insuranceType:\n",
    "        return salary * (percent / 100)\n",
    "    else:\n",
    "        return ('what is that')\n",
    "     \n",
    "salary = int(input('Enter your slary: '))\n",
    "percent = int(input('Enter percentage: '))\n",
    "print('your insurance is: ', calInsurance(percent, salary))"
   ]
  },
  {
   "cell_type": "code",
   "execution_count": 15,
   "metadata": {},
   "outputs": [
    {
     "name": "stdout",
     "output_type": "stream",
     "text": [
      "[1, 2, 3, 'hello', 'goodby']\n"
     ]
    },
    {
     "ename": "TypeError",
     "evalue": "'tuple' object does not support item assignment",
     "output_type": "error",
     "traceback": [
      "\u001b[1;31m---------------------------------------------------------------------------\u001b[0m",
      "\u001b[1;31mTypeError\u001b[0m                                 Traceback (most recent call last)",
      "\u001b[1;32m~\\AppData\\Local\\Temp/ipykernel_8616/1567601609.py\u001b[0m in \u001b[0;36m<module>\u001b[1;34m\u001b[0m\n\u001b[0;32m      4\u001b[0m \u001b[1;31m# -----------------------------\u001b[0m\u001b[1;33m\u001b[0m\u001b[1;33m\u001b[0m\u001b[0m\n\u001b[0;32m      5\u001b[0m \u001b[0mtouple1\u001b[0m \u001b[1;33m=\u001b[0m \u001b[1;33m(\u001b[0m\u001b[1;36m1\u001b[0m\u001b[1;33m,\u001b[0m\u001b[1;36m2\u001b[0m\u001b[1;33m,\u001b[0m\u001b[1;36m3\u001b[0m\u001b[1;33m,\u001b[0m\u001b[1;34m'hello'\u001b[0m\u001b[1;33m,\u001b[0m \u001b[1;32mTrue\u001b[0m\u001b[1;33m)\u001b[0m\u001b[1;33m\u001b[0m\u001b[1;33m\u001b[0m\u001b[0m\n\u001b[1;32m----> 6\u001b[1;33m \u001b[0mtouple1\u001b[0m\u001b[1;33m[\u001b[0m\u001b[1;36m4\u001b[0m\u001b[1;33m]\u001b[0m \u001b[1;33m=\u001b[0m \u001b[1;34m'goodby'\u001b[0m\u001b[1;33m\u001b[0m\u001b[1;33m\u001b[0m\u001b[0m\n\u001b[0m",
      "\u001b[1;31mTypeError\u001b[0m: 'tuple' object does not support item assignment"
     ]
    }
   ],
   "source": [
    "list1 = [1,2,3,'hello',True]\n",
    "list1[4] = 'goodby'\n",
    "print(list1)\n",
    "# -----------------------------\n",
    "touple1 = (1,2,3,'hello', True)\n",
    "touple1[4] = 'goodby' # becuase touple is not changeable we have an error\n"
   ]
  },
  {
   "cell_type": "code",
   "execution_count": 20,
   "metadata": {},
   "outputs": [
    {
     "name": "stdout",
     "output_type": "stream",
     "text": [
      "concated t1 and t2: ('One item', 'hello', 1, 2, True)\n",
      "yes is there\n"
     ]
    }
   ],
   "source": [
    "t = ()  # This is an empty touple\n",
    "t1 = ('One item', )  # This is a one item touple\n",
    "t2 = ('hello', 1, 2, True) # This is a multi items touple\n",
    "t3 = t1 + t2 # concatate t1 with t2\n",
    "print(f'concated t1 and t2: {t3}', end='\\n')\n",
    "if 1 in t3:\n",
    "    print('yes is there')\n",
    "else:\n",
    "    print(\"no this value not in touple\")\n",
    "\n",
    "\n"
   ]
  },
  {
   "cell_type": "code",
   "execution_count": 39,
   "metadata": {},
   "outputs": [
    {
     "data": {
      "text/plain": [
       "[1, 2, 4, 5, 8, 20, 20, 40, 50, 80, 100, 110]"
      ]
     },
     "execution_count": 39,
     "metadata": {},
     "output_type": "execute_result"
    }
   ],
   "source": [
    "numbers = (10, 20, 30, 5, 40, 20, 4, 2, 1, 8, 80)\n",
    "numbers = numbers + (100, )\n",
    "numbers = numbers[0:3] + (50,) + numbers[3:]\n",
    "numbers = numbers[0:2] + numbers[3:]\n",
    "numbers =  (110, ) + numbers[1:]\n",
    "numbers = sorted(numbers)\n",
    "numbers"
   ]
  },
  {
   "cell_type": "code",
   "execution_count": 13,
   "metadata": {},
   "outputs": [
    {
     "name": "stdout",
     "output_type": "stream",
     "text": [
      "--Return--\n",
      "None\n",
      "> \u001b[1;32mc:\\users\\meisam\\appdata\\local\\temp\\ipykernel_2844\\340825905.py\u001b[0m(5)\u001b[0;36m<module>\u001b[1;34m()\u001b[0m\n",
      "\n",
      "\u001b[0;32m      1 \u001b[0m\u001b[1;32mimport\u001b[0m \u001b[0mpdb\u001b[0m\u001b[1;33m\u001b[0m\u001b[1;33m\u001b[0m\u001b[0m\n",
      "\u001b[0;32m      2 \u001b[0m\u001b[0mcount\u001b[0m \u001b[1;33m=\u001b[0m \u001b[0mint\u001b[0m\u001b[1;33m(\u001b[0m\u001b[0minput\u001b[0m\u001b[1;33m(\u001b[0m\u001b[1;34m\"Enter a number: \"\u001b[0m\u001b[1;33m)\u001b[0m\u001b[1;33m)\u001b[0m\u001b[1;33m\u001b[0m\u001b[1;33m\u001b[0m\u001b[0m\n",
      "\u001b[0;32m      3 \u001b[0m\u001b[0mproduct_list\u001b[0m \u001b[1;33m=\u001b[0m \u001b[1;33m[\u001b[0m\u001b[1;33m]\u001b[0m\u001b[1;33m\u001b[0m\u001b[1;33m\u001b[0m\u001b[0m\n",
      "\u001b[0;32m      4 \u001b[0m\u001b[0mproducts\u001b[0m \u001b[1;33m=\u001b[0m \u001b[1;33m{\u001b[0m\u001b[1;33m}\u001b[0m\u001b[1;33m\u001b[0m\u001b[1;33m\u001b[0m\u001b[0m\n",
      "\u001b[1;32m----> 5 \u001b[1;33m\u001b[0mpdb\u001b[0m\u001b[1;33m.\u001b[0m\u001b[0mset_trace\u001b[0m\u001b[1;33m(\u001b[0m\u001b[1;33m)\u001b[0m\u001b[1;33m\u001b[0m\u001b[1;33m\u001b[0m\u001b[0m\n",
      "\u001b[0m\u001b[0;32m      6 \u001b[0m\u001b[1;32mfor\u001b[0m \u001b[0mi\u001b[0m \u001b[1;32min\u001b[0m \u001b[0mrange\u001b[0m\u001b[1;33m(\u001b[0m\u001b[0mcount\u001b[0m\u001b[1;33m)\u001b[0m\u001b[1;33m:\u001b[0m\u001b[1;33m\u001b[0m\u001b[1;33m\u001b[0m\u001b[0m\n",
      "\u001b[0;32m      7 \u001b[0m    \u001b[0mcode\u001b[0m \u001b[1;33m=\u001b[0m \u001b[0mint\u001b[0m\u001b[1;33m(\u001b[0m\u001b[0minput\u001b[0m\u001b[1;33m(\u001b[0m\u001b[1;34m\"enter a code: \"\u001b[0m\u001b[1;33m)\u001b[0m\u001b[1;33m)\u001b[0m\u001b[1;33m\u001b[0m\u001b[1;33m\u001b[0m\u001b[0m\n",
      "\u001b[0;32m      8 \u001b[0m    \u001b[0mname\u001b[0m \u001b[1;33m=\u001b[0m \u001b[0minput\u001b[0m\u001b[1;33m(\u001b[0m\u001b[1;34m\"enter a name: \"\u001b[0m\u001b[1;33m)\u001b[0m\u001b[1;33m\u001b[0m\u001b[1;33m\u001b[0m\u001b[0m\n",
      "\u001b[0;32m      9 \u001b[0m    \u001b[0mprint\u001b[0m\u001b[1;33m(\u001b[0m\u001b[1;34m'before update: '\u001b[0m\u001b[1;33m,\u001b[0m \u001b[0mproducts\u001b[0m\u001b[1;33m)\u001b[0m\u001b[1;33m\u001b[0m\u001b[1;33m\u001b[0m\u001b[0m\n",
      "\u001b[0;32m     10 \u001b[0m    \u001b[0mproducts\u001b[0m\u001b[1;33m.\u001b[0m\u001b[0mupdate\u001b[0m\u001b[1;33m(\u001b[0m\u001b[1;33m{\u001b[0m\u001b[1;34m\"Product_code\"\u001b[0m\u001b[1;33m:\u001b[0m \u001b[0mcode\u001b[0m\u001b[1;33m,\u001b[0m \u001b[1;34m\"product_name\"\u001b[0m\u001b[1;33m:\u001b[0m \u001b[0mname\u001b[0m\u001b[1;33m,\u001b[0m \u001b[1;33m}\u001b[0m\u001b[1;33m)\u001b[0m\u001b[1;33m\u001b[0m\u001b[1;33m\u001b[0m\u001b[0m\n",
      "\u001b[0;32m     11 \u001b[0m    \u001b[0mprint\u001b[0m\u001b[1;33m(\u001b[0m\u001b[1;34m'after update'\u001b[0m\u001b[1;33m,\u001b[0m \u001b[0mproducts\u001b[0m\u001b[1;33m)\u001b[0m\u001b[1;33m\u001b[0m\u001b[1;33m\u001b[0m\u001b[0m\n",
      "\n",
      "\u001b[0;32m     12 \u001b[0m    \u001b[0mproduct_list\u001b[0m\u001b[1;33m.\u001b[0m\u001b[0mappend\u001b[0m\u001b[1;33m(\u001b[0m\u001b[0mproducts\u001b[0m\u001b[1;33m)\u001b[0m\u001b[1;33m\u001b[0m\u001b[1;33m\u001b[0m\u001b[0m\n",
      "\u001b[0;32m     13 \u001b[0m\u001b[0mprint\u001b[0m\u001b[1;33m(\u001b[0m\u001b[0mproduct_list\u001b[0m\u001b[1;33m,\u001b[0m \u001b[0mend\u001b[0m\u001b[1;33m=\u001b[0m\u001b[1;34m'/n'\u001b[0m\u001b[1;33m)\u001b[0m\u001b[1;33m\u001b[0m\u001b[1;33m\u001b[0m\u001b[0m\n",
      "\n",
      "\u001b[1;31m    [... skipped 1 hidden frame]\u001b[0m\n",
      "\n",
      "\u001b[1;31m    [... skipped 1 hidden frame]\u001b[0m\n",
      "\n",
      "\u001b[1;31m    [... skipped 1 hidden frame]\u001b[0m\n",
      "\n",
      "\u001b[1;31m    [... skipped 1 hidden frame]\u001b[0m\n",
      "\n",
      "> \u001b[1;32mc:\\users\\meisam\\anaconda3\\lib\\site-packages\\ipython\\core\\interactiveshell.py\u001b[0m(3356)\u001b[0;36mrun_ast_nodes\u001b[1;34m()\u001b[0m\n",
      "\u001b[1;32m   3354 \u001b[1;33m                    \u001b[0mto_run\u001b[0m\u001b[1;33m.\u001b[0m\u001b[0mappend\u001b[0m\u001b[1;33m(\u001b[0m\u001b[1;33m(\u001b[0m\u001b[0mnode\u001b[0m\u001b[1;33m,\u001b[0m \u001b[1;34m'single'\u001b[0m\u001b[1;33m)\u001b[0m\u001b[1;33m)\u001b[0m\u001b[1;33m\u001b[0m\u001b[1;33m\u001b[0m\u001b[0m\n",
      "\u001b[0m\u001b[1;32m   3355 \u001b[1;33m\u001b[1;33m\u001b[0m\u001b[0m\n",
      "\u001b[0m\u001b[1;32m-> 3356 \u001b[1;33m                \u001b[1;32mfor\u001b[0m \u001b[0mnode\u001b[0m\u001b[1;33m,\u001b[0m\u001b[0mmode\u001b[0m \u001b[1;32min\u001b[0m \u001b[0mto_run\u001b[0m\u001b[1;33m:\u001b[0m\u001b[1;33m\u001b[0m\u001b[1;33m\u001b[0m\u001b[0m\n",
      "\u001b[0m\u001b[1;32m   3357 \u001b[1;33m                    \u001b[1;32mif\u001b[0m \u001b[0mmode\u001b[0m \u001b[1;33m==\u001b[0m \u001b[1;34m'exec'\u001b[0m\u001b[1;33m:\u001b[0m\u001b[1;33m\u001b[0m\u001b[1;33m\u001b[0m\u001b[0m\n",
      "\u001b[0m\u001b[1;32m   3358 \u001b[1;33m                        \u001b[0mmod\u001b[0m \u001b[1;33m=\u001b[0m \u001b[0mModule\u001b[0m\u001b[1;33m(\u001b[0m\u001b[1;33m[\u001b[0m\u001b[0mnode\u001b[0m\u001b[1;33m]\u001b[0m\u001b[1;33m,\u001b[0m \u001b[1;33m[\u001b[0m\u001b[1;33m]\u001b[0m\u001b[1;33m)\u001b[0m\u001b[1;33m\u001b[0m\u001b[1;33m\u001b[0m\u001b[0m\n",
      "\u001b[0m\n",
      "> \u001b[1;32mc:\\users\\meisam\\anaconda3\\lib\\site-packages\\ipython\\core\\interactiveshell.py\u001b[0m(3357)\u001b[0;36mrun_ast_nodes\u001b[1;34m()\u001b[0m\n",
      "\u001b[1;32m   3355 \u001b[1;33m\u001b[1;33m\u001b[0m\u001b[0m\n",
      "\u001b[0m\u001b[1;32m   3356 \u001b[1;33m                \u001b[1;32mfor\u001b[0m \u001b[0mnode\u001b[0m\u001b[1;33m,\u001b[0m\u001b[0mmode\u001b[0m \u001b[1;32min\u001b[0m \u001b[0mto_run\u001b[0m\u001b[1;33m:\u001b[0m\u001b[1;33m\u001b[0m\u001b[1;33m\u001b[0m\u001b[0m\n",
      "\u001b[0m\u001b[1;32m-> 3357 \u001b[1;33m                    \u001b[1;32mif\u001b[0m \u001b[0mmode\u001b[0m \u001b[1;33m==\u001b[0m \u001b[1;34m'exec'\u001b[0m\u001b[1;33m:\u001b[0m\u001b[1;33m\u001b[0m\u001b[1;33m\u001b[0m\u001b[0m\n",
      "\u001b[0m\u001b[1;32m   3358 \u001b[1;33m                        \u001b[0mmod\u001b[0m \u001b[1;33m=\u001b[0m \u001b[0mModule\u001b[0m\u001b[1;33m(\u001b[0m\u001b[1;33m[\u001b[0m\u001b[0mnode\u001b[0m\u001b[1;33m]\u001b[0m\u001b[1;33m,\u001b[0m \u001b[1;33m[\u001b[0m\u001b[1;33m]\u001b[0m\u001b[1;33m)\u001b[0m\u001b[1;33m\u001b[0m\u001b[1;33m\u001b[0m\u001b[0m\n",
      "\u001b[0m\u001b[1;32m   3359 \u001b[1;33m                    \u001b[1;32melif\u001b[0m \u001b[0mmode\u001b[0m \u001b[1;33m==\u001b[0m \u001b[1;34m'single'\u001b[0m\u001b[1;33m:\u001b[0m\u001b[1;33m\u001b[0m\u001b[1;33m\u001b[0m\u001b[0m\n",
      "\u001b[0m\n",
      "> \u001b[1;32mc:\\users\\meisam\\anaconda3\\lib\\site-packages\\ipython\\core\\interactiveshell.py\u001b[0m(3358)\u001b[0;36mrun_ast_nodes\u001b[1;34m()\u001b[0m\n",
      "\u001b[1;32m   3356 \u001b[1;33m                \u001b[1;32mfor\u001b[0m \u001b[0mnode\u001b[0m\u001b[1;33m,\u001b[0m\u001b[0mmode\u001b[0m \u001b[1;32min\u001b[0m \u001b[0mto_run\u001b[0m\u001b[1;33m:\u001b[0m\u001b[1;33m\u001b[0m\u001b[1;33m\u001b[0m\u001b[0m\n",
      "\u001b[0m\u001b[1;32m   3357 \u001b[1;33m                    \u001b[1;32mif\u001b[0m \u001b[0mmode\u001b[0m \u001b[1;33m==\u001b[0m \u001b[1;34m'exec'\u001b[0m\u001b[1;33m:\u001b[0m\u001b[1;33m\u001b[0m\u001b[1;33m\u001b[0m\u001b[0m\n",
      "\u001b[0m\u001b[1;32m-> 3358 \u001b[1;33m                        \u001b[0mmod\u001b[0m \u001b[1;33m=\u001b[0m \u001b[0mModule\u001b[0m\u001b[1;33m(\u001b[0m\u001b[1;33m[\u001b[0m\u001b[0mnode\u001b[0m\u001b[1;33m]\u001b[0m\u001b[1;33m,\u001b[0m \u001b[1;33m[\u001b[0m\u001b[1;33m]\u001b[0m\u001b[1;33m)\u001b[0m\u001b[1;33m\u001b[0m\u001b[1;33m\u001b[0m\u001b[0m\n",
      "\u001b[0m\u001b[1;32m   3359 \u001b[1;33m                    \u001b[1;32melif\u001b[0m \u001b[0mmode\u001b[0m \u001b[1;33m==\u001b[0m \u001b[1;34m'single'\u001b[0m\u001b[1;33m:\u001b[0m\u001b[1;33m\u001b[0m\u001b[1;33m\u001b[0m\u001b[0m\n",
      "\u001b[0m\u001b[1;32m   3360 \u001b[1;33m                        \u001b[0mmod\u001b[0m \u001b[1;33m=\u001b[0m \u001b[0mast\u001b[0m\u001b[1;33m.\u001b[0m\u001b[0mInteractive\u001b[0m\u001b[1;33m(\u001b[0m\u001b[1;33m[\u001b[0m\u001b[0mnode\u001b[0m\u001b[1;33m]\u001b[0m\u001b[1;33m)\u001b[0m\u001b[1;33m\u001b[0m\u001b[1;33m\u001b[0m\u001b[0m\n",
      "\u001b[0m\n",
      "> \u001b[1;32mc:\\users\\meisam\\anaconda3\\lib\\site-packages\\ipython\\core\\interactiveshell.py\u001b[0m(3361)\u001b[0;36mrun_ast_nodes\u001b[1;34m()\u001b[0m\n",
      "\u001b[1;32m   3359 \u001b[1;33m                    \u001b[1;32melif\u001b[0m \u001b[0mmode\u001b[0m \u001b[1;33m==\u001b[0m \u001b[1;34m'single'\u001b[0m\u001b[1;33m:\u001b[0m\u001b[1;33m\u001b[0m\u001b[1;33m\u001b[0m\u001b[0m\n",
      "\u001b[0m\u001b[1;32m   3360 \u001b[1;33m                        \u001b[0mmod\u001b[0m \u001b[1;33m=\u001b[0m \u001b[0mast\u001b[0m\u001b[1;33m.\u001b[0m\u001b[0mInteractive\u001b[0m\u001b[1;33m(\u001b[0m\u001b[1;33m[\u001b[0m\u001b[0mnode\u001b[0m\u001b[1;33m]\u001b[0m\u001b[1;33m)\u001b[0m\u001b[1;33m\u001b[0m\u001b[1;33m\u001b[0m\u001b[0m\n",
      "\u001b[0m\u001b[1;32m-> 3361 \u001b[1;33m                    \u001b[1;32mwith\u001b[0m \u001b[0mcompiler\u001b[0m\u001b[1;33m.\u001b[0m\u001b[0mextra_flags\u001b[0m\u001b[1;33m(\u001b[0m\u001b[0mgetattr\u001b[0m\u001b[1;33m(\u001b[0m\u001b[0mast\u001b[0m\u001b[1;33m,\u001b[0m \u001b[1;34m'PyCF_ALLOW_TOP_LEVEL_AWAIT'\u001b[0m\u001b[1;33m,\u001b[0m \u001b[1;36m0x0\u001b[0m\u001b[1;33m)\u001b[0m \u001b[1;32mif\u001b[0m \u001b[0mself\u001b[0m\u001b[1;33m.\u001b[0m\u001b[0mautoawait\u001b[0m \u001b[1;32melse\u001b[0m \u001b[1;36m0x0\u001b[0m\u001b[1;33m)\u001b[0m\u001b[1;33m:\u001b[0m\u001b[1;33m\u001b[0m\u001b[1;33m\u001b[0m\u001b[0m\n",
      "\u001b[0m\u001b[1;32m   3362 \u001b[1;33m                        \u001b[0mcode\u001b[0m \u001b[1;33m=\u001b[0m \u001b[0mcompiler\u001b[0m\u001b[1;33m(\u001b[0m\u001b[0mmod\u001b[0m\u001b[1;33m,\u001b[0m \u001b[0mcell_name\u001b[0m\u001b[1;33m,\u001b[0m \u001b[0mmode\u001b[0m\u001b[1;33m)\u001b[0m\u001b[1;33m\u001b[0m\u001b[1;33m\u001b[0m\u001b[0m\n",
      "\u001b[0m\u001b[1;32m   3363 \u001b[1;33m                        \u001b[0masy\u001b[0m \u001b[1;33m=\u001b[0m \u001b[0mcompare\u001b[0m\u001b[1;33m(\u001b[0m\u001b[0mcode\u001b[0m\u001b[1;33m)\u001b[0m\u001b[1;33m\u001b[0m\u001b[1;33m\u001b[0m\u001b[0m\n",
      "\u001b[0m\n",
      "> \u001b[1;32mc:\\users\\meisam\\anaconda3\\lib\\site-packages\\ipython\\core\\interactiveshell.py\u001b[0m(3362)\u001b[0;36mrun_ast_nodes\u001b[1;34m()\u001b[0m\n",
      "\u001b[1;32m   3360 \u001b[1;33m                        \u001b[0mmod\u001b[0m \u001b[1;33m=\u001b[0m \u001b[0mast\u001b[0m\u001b[1;33m.\u001b[0m\u001b[0mInteractive\u001b[0m\u001b[1;33m(\u001b[0m\u001b[1;33m[\u001b[0m\u001b[0mnode\u001b[0m\u001b[1;33m]\u001b[0m\u001b[1;33m)\u001b[0m\u001b[1;33m\u001b[0m\u001b[1;33m\u001b[0m\u001b[0m\n",
      "\u001b[0m\u001b[1;32m   3361 \u001b[1;33m                    \u001b[1;32mwith\u001b[0m \u001b[0mcompiler\u001b[0m\u001b[1;33m.\u001b[0m\u001b[0mextra_flags\u001b[0m\u001b[1;33m(\u001b[0m\u001b[0mgetattr\u001b[0m\u001b[1;33m(\u001b[0m\u001b[0mast\u001b[0m\u001b[1;33m,\u001b[0m \u001b[1;34m'PyCF_ALLOW_TOP_LEVEL_AWAIT'\u001b[0m\u001b[1;33m,\u001b[0m \u001b[1;36m0x0\u001b[0m\u001b[1;33m)\u001b[0m \u001b[1;32mif\u001b[0m \u001b[0mself\u001b[0m\u001b[1;33m.\u001b[0m\u001b[0mautoawait\u001b[0m \u001b[1;32melse\u001b[0m \u001b[1;36m0x0\u001b[0m\u001b[1;33m)\u001b[0m\u001b[1;33m:\u001b[0m\u001b[1;33m\u001b[0m\u001b[1;33m\u001b[0m\u001b[0m\n",
      "\u001b[0m\u001b[1;32m-> 3362 \u001b[1;33m                        \u001b[0mcode\u001b[0m \u001b[1;33m=\u001b[0m \u001b[0mcompiler\u001b[0m\u001b[1;33m(\u001b[0m\u001b[0mmod\u001b[0m\u001b[1;33m,\u001b[0m \u001b[0mcell_name\u001b[0m\u001b[1;33m,\u001b[0m \u001b[0mmode\u001b[0m\u001b[1;33m)\u001b[0m\u001b[1;33m\u001b[0m\u001b[1;33m\u001b[0m\u001b[0m\n",
      "\u001b[0m\u001b[1;32m   3363 \u001b[1;33m                        \u001b[0masy\u001b[0m \u001b[1;33m=\u001b[0m \u001b[0mcompare\u001b[0m\u001b[1;33m(\u001b[0m\u001b[0mcode\u001b[0m\u001b[1;33m)\u001b[0m\u001b[1;33m\u001b[0m\u001b[1;33m\u001b[0m\u001b[0m\n",
      "\u001b[0m\u001b[1;32m   3364 \u001b[1;33m                    \u001b[1;32mif\u001b[0m \u001b[1;33m(\u001b[0m\u001b[1;32mawait\u001b[0m \u001b[0mself\u001b[0m\u001b[1;33m.\u001b[0m\u001b[0mrun_code\u001b[0m\u001b[1;33m(\u001b[0m\u001b[0mcode\u001b[0m\u001b[1;33m,\u001b[0m \u001b[0mresult\u001b[0m\u001b[1;33m,\u001b[0m  \u001b[0masync_\u001b[0m\u001b[1;33m=\u001b[0m\u001b[0masy\u001b[0m\u001b[1;33m)\u001b[0m\u001b[1;33m)\u001b[0m\u001b[1;33m:\u001b[0m\u001b[1;33m\u001b[0m\u001b[1;33m\u001b[0m\u001b[0m\n",
      "\u001b[0m\n",
      "> \u001b[1;32mc:\\users\\meisam\\anaconda3\\lib\\site-packages\\ipython\\core\\interactiveshell.py\u001b[0m(3363)\u001b[0;36mrun_ast_nodes\u001b[1;34m()\u001b[0m\n",
      "\u001b[1;32m   3361 \u001b[1;33m                    \u001b[1;32mwith\u001b[0m \u001b[0mcompiler\u001b[0m\u001b[1;33m.\u001b[0m\u001b[0mextra_flags\u001b[0m\u001b[1;33m(\u001b[0m\u001b[0mgetattr\u001b[0m\u001b[1;33m(\u001b[0m\u001b[0mast\u001b[0m\u001b[1;33m,\u001b[0m \u001b[1;34m'PyCF_ALLOW_TOP_LEVEL_AWAIT'\u001b[0m\u001b[1;33m,\u001b[0m \u001b[1;36m0x0\u001b[0m\u001b[1;33m)\u001b[0m \u001b[1;32mif\u001b[0m \u001b[0mself\u001b[0m\u001b[1;33m.\u001b[0m\u001b[0mautoawait\u001b[0m \u001b[1;32melse\u001b[0m \u001b[1;36m0x0\u001b[0m\u001b[1;33m)\u001b[0m\u001b[1;33m:\u001b[0m\u001b[1;33m\u001b[0m\u001b[1;33m\u001b[0m\u001b[0m\n",
      "\u001b[0m\u001b[1;32m   3362 \u001b[1;33m                        \u001b[0mcode\u001b[0m \u001b[1;33m=\u001b[0m \u001b[0mcompiler\u001b[0m\u001b[1;33m(\u001b[0m\u001b[0mmod\u001b[0m\u001b[1;33m,\u001b[0m \u001b[0mcell_name\u001b[0m\u001b[1;33m,\u001b[0m \u001b[0mmode\u001b[0m\u001b[1;33m)\u001b[0m\u001b[1;33m\u001b[0m\u001b[1;33m\u001b[0m\u001b[0m\n",
      "\u001b[0m\u001b[1;32m-> 3363 \u001b[1;33m                        \u001b[0masy\u001b[0m \u001b[1;33m=\u001b[0m \u001b[0mcompare\u001b[0m\u001b[1;33m(\u001b[0m\u001b[0mcode\u001b[0m\u001b[1;33m)\u001b[0m\u001b[1;33m\u001b[0m\u001b[1;33m\u001b[0m\u001b[0m\n",
      "\u001b[0m\u001b[1;32m   3364 \u001b[1;33m                    \u001b[1;32mif\u001b[0m \u001b[1;33m(\u001b[0m\u001b[1;32mawait\u001b[0m \u001b[0mself\u001b[0m\u001b[1;33m.\u001b[0m\u001b[0mrun_code\u001b[0m\u001b[1;33m(\u001b[0m\u001b[0mcode\u001b[0m\u001b[1;33m,\u001b[0m \u001b[0mresult\u001b[0m\u001b[1;33m,\u001b[0m  \u001b[0masync_\u001b[0m\u001b[1;33m=\u001b[0m\u001b[0masy\u001b[0m\u001b[1;33m)\u001b[0m\u001b[1;33m)\u001b[0m\u001b[1;33m:\u001b[0m\u001b[1;33m\u001b[0m\u001b[1;33m\u001b[0m\u001b[0m\n",
      "\u001b[0m\u001b[1;32m   3365 \u001b[1;33m                        \u001b[1;32mreturn\u001b[0m \u001b[1;32mTrue\u001b[0m\u001b[1;33m\u001b[0m\u001b[1;33m\u001b[0m\u001b[0m\n",
      "\u001b[0m\n",
      "> \u001b[1;32mc:\\users\\meisam\\anaconda3\\lib\\site-packages\\ipython\\core\\interactiveshell.py\u001b[0m(3364)\u001b[0;36mrun_ast_nodes\u001b[1;34m()\u001b[0m\n",
      "\u001b[1;32m   3362 \u001b[1;33m                        \u001b[0mcode\u001b[0m \u001b[1;33m=\u001b[0m \u001b[0mcompiler\u001b[0m\u001b[1;33m(\u001b[0m\u001b[0mmod\u001b[0m\u001b[1;33m,\u001b[0m \u001b[0mcell_name\u001b[0m\u001b[1;33m,\u001b[0m \u001b[0mmode\u001b[0m\u001b[1;33m)\u001b[0m\u001b[1;33m\u001b[0m\u001b[1;33m\u001b[0m\u001b[0m\n",
      "\u001b[0m\u001b[1;32m   3363 \u001b[1;33m                        \u001b[0masy\u001b[0m \u001b[1;33m=\u001b[0m \u001b[0mcompare\u001b[0m\u001b[1;33m(\u001b[0m\u001b[0mcode\u001b[0m\u001b[1;33m)\u001b[0m\u001b[1;33m\u001b[0m\u001b[1;33m\u001b[0m\u001b[0m\n",
      "\u001b[0m\u001b[1;32m-> 3364 \u001b[1;33m                    \u001b[1;32mif\u001b[0m \u001b[1;33m(\u001b[0m\u001b[1;32mawait\u001b[0m \u001b[0mself\u001b[0m\u001b[1;33m.\u001b[0m\u001b[0mrun_code\u001b[0m\u001b[1;33m(\u001b[0m\u001b[0mcode\u001b[0m\u001b[1;33m,\u001b[0m \u001b[0mresult\u001b[0m\u001b[1;33m,\u001b[0m  \u001b[0masync_\u001b[0m\u001b[1;33m=\u001b[0m\u001b[0masy\u001b[0m\u001b[1;33m)\u001b[0m\u001b[1;33m)\u001b[0m\u001b[1;33m:\u001b[0m\u001b[1;33m\u001b[0m\u001b[1;33m\u001b[0m\u001b[0m\n",
      "\u001b[0m\u001b[1;32m   3365 \u001b[1;33m                        \u001b[1;32mreturn\u001b[0m \u001b[1;32mTrue\u001b[0m\u001b[1;33m\u001b[0m\u001b[1;33m\u001b[0m\u001b[0m\n",
      "\u001b[0m\u001b[1;32m   3366 \u001b[1;33m\u001b[1;33m\u001b[0m\u001b[0m\n",
      "\u001b[0m\n"
     ]
    },
    {
     "ename": "ValueError",
     "evalue": "invalid literal for int() with base 10: ''",
     "output_type": "error",
     "traceback": [
      "\u001b[1;31m---------------------------------------------------------------------------\u001b[0m",
      "\u001b[1;31mValueError\u001b[0m                                Traceback (most recent call last)",
      "\u001b[1;32m~\\AppData\\Local\\Temp/ipykernel_2844/340825905.py\u001b[0m in \u001b[0;36m<module>\u001b[1;34m\u001b[0m\n\u001b[0;32m      5\u001b[0m \u001b[0mpdb\u001b[0m\u001b[1;33m.\u001b[0m\u001b[0mset_trace\u001b[0m\u001b[1;33m(\u001b[0m\u001b[1;33m)\u001b[0m\u001b[1;33m\u001b[0m\u001b[1;33m\u001b[0m\u001b[0m\n\u001b[0;32m      6\u001b[0m \u001b[1;32mfor\u001b[0m \u001b[0mi\u001b[0m \u001b[1;32min\u001b[0m \u001b[0mrange\u001b[0m\u001b[1;33m(\u001b[0m\u001b[0mcount\u001b[0m\u001b[1;33m)\u001b[0m\u001b[1;33m:\u001b[0m\u001b[1;33m\u001b[0m\u001b[1;33m\u001b[0m\u001b[0m\n\u001b[1;32m----> 7\u001b[1;33m     \u001b[0mcode\u001b[0m \u001b[1;33m=\u001b[0m \u001b[0mint\u001b[0m\u001b[1;33m(\u001b[0m\u001b[0minput\u001b[0m\u001b[1;33m(\u001b[0m\u001b[1;34m\"enter a code: \"\u001b[0m\u001b[1;33m)\u001b[0m\u001b[1;33m)\u001b[0m\u001b[1;33m\u001b[0m\u001b[1;33m\u001b[0m\u001b[0m\n\u001b[0m\u001b[0;32m      8\u001b[0m     \u001b[0mname\u001b[0m \u001b[1;33m=\u001b[0m \u001b[0minput\u001b[0m\u001b[1;33m(\u001b[0m\u001b[1;34m\"enter a name: \"\u001b[0m\u001b[1;33m)\u001b[0m\u001b[1;33m\u001b[0m\u001b[1;33m\u001b[0m\u001b[0m\n\u001b[0;32m      9\u001b[0m     \u001b[0mprint\u001b[0m\u001b[1;33m(\u001b[0m\u001b[1;34m'before update: '\u001b[0m\u001b[1;33m,\u001b[0m \u001b[0mproducts\u001b[0m\u001b[1;33m)\u001b[0m\u001b[1;33m\u001b[0m\u001b[1;33m\u001b[0m\u001b[0m\n",
      "\u001b[1;31mValueError\u001b[0m: invalid literal for int() with base 10: ''"
     ]
    },
    {
     "name": "stdout",
     "output_type": "stream",
     "text": [
      "> \u001b[1;32mc:\\users\\meisam\\anaconda3\\lib\\site-packages\\ipython\\core\\interactiveshell.py\u001b[0m(3365)\u001b[0;36mrun_ast_nodes\u001b[1;34m()\u001b[0m\n",
      "\u001b[1;32m   3363 \u001b[1;33m                        \u001b[0masy\u001b[0m \u001b[1;33m=\u001b[0m \u001b[0mcompare\u001b[0m\u001b[1;33m(\u001b[0m\u001b[0mcode\u001b[0m\u001b[1;33m)\u001b[0m\u001b[1;33m\u001b[0m\u001b[1;33m\u001b[0m\u001b[0m\n",
      "\u001b[0m\u001b[1;32m   3364 \u001b[1;33m                    \u001b[1;32mif\u001b[0m \u001b[1;33m(\u001b[0m\u001b[1;32mawait\u001b[0m \u001b[0mself\u001b[0m\u001b[1;33m.\u001b[0m\u001b[0mrun_code\u001b[0m\u001b[1;33m(\u001b[0m\u001b[0mcode\u001b[0m\u001b[1;33m,\u001b[0m \u001b[0mresult\u001b[0m\u001b[1;33m,\u001b[0m  \u001b[0masync_\u001b[0m\u001b[1;33m=\u001b[0m\u001b[0masy\u001b[0m\u001b[1;33m)\u001b[0m\u001b[1;33m)\u001b[0m\u001b[1;33m:\u001b[0m\u001b[1;33m\u001b[0m\u001b[1;33m\u001b[0m\u001b[0m\n",
      "\u001b[0m\u001b[1;32m-> 3365 \u001b[1;33m                        \u001b[1;32mreturn\u001b[0m \u001b[1;32mTrue\u001b[0m\u001b[1;33m\u001b[0m\u001b[1;33m\u001b[0m\u001b[0m\n",
      "\u001b[0m\u001b[1;32m   3366 \u001b[1;33m\u001b[1;33m\u001b[0m\u001b[0m\n",
      "\u001b[0m\u001b[1;32m   3367 \u001b[1;33m            \u001b[1;31m# Flush softspace\u001b[0m\u001b[1;33m\u001b[0m\u001b[1;33m\u001b[0m\u001b[0m\n",
      "\u001b[0m\n",
      "Internal StopIteration: True\n",
      "> \u001b[1;32mc:\\users\\meisam\\anaconda3\\lib\\site-packages\\ipython\\core\\interactiveshell.py\u001b[0m(3172)\u001b[0;36mrun_cell_async\u001b[1;34m()\u001b[0m\n",
      "\u001b[1;32m   3170 \u001b[1;33m                    \u001b[0minteractivity\u001b[0m \u001b[1;33m=\u001b[0m \u001b[1;34m'async'\u001b[0m\u001b[1;33m\u001b[0m\u001b[1;33m\u001b[0m\u001b[0m\n",
      "\u001b[0m\u001b[1;32m   3171 \u001b[1;33m\u001b[1;33m\u001b[0m\u001b[0m\n",
      "\u001b[0m\u001b[1;32m-> 3172 \u001b[1;33m                has_raised = await self.run_ast_nodes(code_ast.body, cell_name,\n",
      "\u001b[0m\u001b[1;32m   3173 \u001b[1;33m                       interactivity=interactivity, compiler=compiler, result=result)\n",
      "\u001b[0m\u001b[1;32m   3174 \u001b[1;33m\u001b[1;33m\u001b[0m\u001b[0m\n",
      "\u001b[0m\n",
      "> \u001b[1;32mc:\\users\\meisam\\anaconda3\\lib\\site-packages\\ipython\\core\\interactiveshell.py\u001b[0m(3175)\u001b[0;36mrun_cell_async\u001b[1;34m()\u001b[0m\n",
      "\u001b[1;32m   3173 \u001b[1;33m                       interactivity=interactivity, compiler=compiler, result=result)\n",
      "\u001b[0m\u001b[1;32m   3174 \u001b[1;33m\u001b[1;33m\u001b[0m\u001b[0m\n",
      "\u001b[0m\u001b[1;32m-> 3175 \u001b[1;33m                \u001b[0mself\u001b[0m\u001b[1;33m.\u001b[0m\u001b[0mlast_execution_succeeded\u001b[0m \u001b[1;33m=\u001b[0m \u001b[1;32mnot\u001b[0m \u001b[0mhas_raised\u001b[0m\u001b[1;33m\u001b[0m\u001b[1;33m\u001b[0m\u001b[0m\n",
      "\u001b[0m\u001b[1;32m   3176 \u001b[1;33m                \u001b[0mself\u001b[0m\u001b[1;33m.\u001b[0m\u001b[0mlast_execution_result\u001b[0m \u001b[1;33m=\u001b[0m \u001b[0mresult\u001b[0m\u001b[1;33m\u001b[0m\u001b[1;33m\u001b[0m\u001b[0m\n",
      "\u001b[0m\u001b[1;32m   3177 \u001b[1;33m\u001b[1;33m\u001b[0m\u001b[0m\n",
      "\u001b[0m\n",
      "> \u001b[1;32mc:\\users\\meisam\\anaconda3\\lib\\site-packages\\ipython\\core\\interactiveshell.py\u001b[0m(3176)\u001b[0;36mrun_cell_async\u001b[1;34m()\u001b[0m\n",
      "\u001b[1;32m   3174 \u001b[1;33m\u001b[1;33m\u001b[0m\u001b[0m\n",
      "\u001b[0m\u001b[1;32m   3175 \u001b[1;33m                \u001b[0mself\u001b[0m\u001b[1;33m.\u001b[0m\u001b[0mlast_execution_succeeded\u001b[0m \u001b[1;33m=\u001b[0m \u001b[1;32mnot\u001b[0m \u001b[0mhas_raised\u001b[0m\u001b[1;33m\u001b[0m\u001b[1;33m\u001b[0m\u001b[0m\n",
      "\u001b[0m\u001b[1;32m-> 3176 \u001b[1;33m                \u001b[0mself\u001b[0m\u001b[1;33m.\u001b[0m\u001b[0mlast_execution_result\u001b[0m \u001b[1;33m=\u001b[0m \u001b[0mresult\u001b[0m\u001b[1;33m\u001b[0m\u001b[1;33m\u001b[0m\u001b[0m\n",
      "\u001b[0m\u001b[1;32m   3177 \u001b[1;33m\u001b[1;33m\u001b[0m\u001b[0m\n",
      "\u001b[0m\u001b[1;32m   3178 \u001b[1;33m                \u001b[1;31m# Reset this so later displayed values do not modify the\u001b[0m\u001b[1;33m\u001b[0m\u001b[1;33m\u001b[0m\u001b[0m\n",
      "\u001b[0m\n",
      "> \u001b[1;32mc:\\users\\meisam\\anaconda3\\lib\\site-packages\\ipython\\core\\interactiveshell.py\u001b[0m(3180)\u001b[0;36mrun_cell_async\u001b[1;34m()\u001b[0m\n",
      "\u001b[1;32m   3178 \u001b[1;33m                \u001b[1;31m# Reset this so later displayed values do not modify the\u001b[0m\u001b[1;33m\u001b[0m\u001b[1;33m\u001b[0m\u001b[0m\n",
      "\u001b[0m\u001b[1;32m   3179 \u001b[1;33m                \u001b[1;31m# ExecutionResult\u001b[0m\u001b[1;33m\u001b[0m\u001b[1;33m\u001b[0m\u001b[0m\n",
      "\u001b[0m\u001b[1;32m-> 3180 \u001b[1;33m                \u001b[0mself\u001b[0m\u001b[1;33m.\u001b[0m\u001b[0mdisplayhook\u001b[0m\u001b[1;33m.\u001b[0m\u001b[0mexec_result\u001b[0m \u001b[1;33m=\u001b[0m \u001b[1;32mNone\u001b[0m\u001b[1;33m\u001b[0m\u001b[1;33m\u001b[0m\u001b[0m\n",
      "\u001b[0m\u001b[1;32m   3181 \u001b[1;33m\u001b[1;33m\u001b[0m\u001b[0m\n",
      "\u001b[0m\u001b[1;32m   3182 \u001b[1;33m        \u001b[1;32mif\u001b[0m \u001b[0mstore_history\u001b[0m\u001b[1;33m:\u001b[0m\u001b[1;33m\u001b[0m\u001b[1;33m\u001b[0m\u001b[0m\n",
      "\u001b[0m\n",
      "> \u001b[1;32mc:\\users\\meisam\\anaconda3\\lib\\site-packages\\ipython\\core\\interactiveshell.py\u001b[0m(3182)\u001b[0;36mrun_cell_async\u001b[1;34m()\u001b[0m\n",
      "\u001b[1;32m   3180 \u001b[1;33m                \u001b[0mself\u001b[0m\u001b[1;33m.\u001b[0m\u001b[0mdisplayhook\u001b[0m\u001b[1;33m.\u001b[0m\u001b[0mexec_result\u001b[0m \u001b[1;33m=\u001b[0m \u001b[1;32mNone\u001b[0m\u001b[1;33m\u001b[0m\u001b[1;33m\u001b[0m\u001b[0m\n",
      "\u001b[0m\u001b[1;32m   3181 \u001b[1;33m\u001b[1;33m\u001b[0m\u001b[0m\n",
      "\u001b[0m\u001b[1;32m-> 3182 \u001b[1;33m        \u001b[1;32mif\u001b[0m \u001b[0mstore_history\u001b[0m\u001b[1;33m:\u001b[0m\u001b[1;33m\u001b[0m\u001b[1;33m\u001b[0m\u001b[0m\n",
      "\u001b[0m\u001b[1;32m   3183 \u001b[1;33m            \u001b[1;31m# Write output to the database. Does nothing unless\u001b[0m\u001b[1;33m\u001b[0m\u001b[1;33m\u001b[0m\u001b[0m\n",
      "\u001b[0m\u001b[1;32m   3184 \u001b[1;33m            \u001b[1;31m# history output logging is enabled.\u001b[0m\u001b[1;33m\u001b[0m\u001b[1;33m\u001b[0m\u001b[0m\n",
      "\u001b[0m\n",
      "> \u001b[1;32mc:\\users\\meisam\\anaconda3\\lib\\site-packages\\ipython\\core\\interactiveshell.py\u001b[0m(3185)\u001b[0;36mrun_cell_async\u001b[1;34m()\u001b[0m\n",
      "\u001b[1;32m   3183 \u001b[1;33m            \u001b[1;31m# Write output to the database. Does nothing unless\u001b[0m\u001b[1;33m\u001b[0m\u001b[1;33m\u001b[0m\u001b[0m\n",
      "\u001b[0m\u001b[1;32m   3184 \u001b[1;33m            \u001b[1;31m# history output logging is enabled.\u001b[0m\u001b[1;33m\u001b[0m\u001b[1;33m\u001b[0m\u001b[0m\n",
      "\u001b[0m\u001b[1;32m-> 3185 \u001b[1;33m            \u001b[0mself\u001b[0m\u001b[1;33m.\u001b[0m\u001b[0mhistory_manager\u001b[0m\u001b[1;33m.\u001b[0m\u001b[0mstore_output\u001b[0m\u001b[1;33m(\u001b[0m\u001b[0mself\u001b[0m\u001b[1;33m.\u001b[0m\u001b[0mexecution_count\u001b[0m\u001b[1;33m)\u001b[0m\u001b[1;33m\u001b[0m\u001b[1;33m\u001b[0m\u001b[0m\n",
      "\u001b[0m\u001b[1;32m   3186 \u001b[1;33m            \u001b[1;31m# Each cell is a *single* input, regardless of how many lines it has\u001b[0m\u001b[1;33m\u001b[0m\u001b[1;33m\u001b[0m\u001b[0m\n",
      "\u001b[0m\u001b[1;32m   3187 \u001b[1;33m            \u001b[0mself\u001b[0m\u001b[1;33m.\u001b[0m\u001b[0mexecution_count\u001b[0m \u001b[1;33m+=\u001b[0m \u001b[1;36m1\u001b[0m\u001b[1;33m\u001b[0m\u001b[1;33m\u001b[0m\u001b[0m\n",
      "\u001b[0m\n",
      "> \u001b[1;32mc:\\users\\meisam\\anaconda3\\lib\\site-packages\\ipython\\core\\interactiveshell.py\u001b[0m(3187)\u001b[0;36mrun_cell_async\u001b[1;34m()\u001b[0m\n",
      "\u001b[1;32m   3185 \u001b[1;33m            \u001b[0mself\u001b[0m\u001b[1;33m.\u001b[0m\u001b[0mhistory_manager\u001b[0m\u001b[1;33m.\u001b[0m\u001b[0mstore_output\u001b[0m\u001b[1;33m(\u001b[0m\u001b[0mself\u001b[0m\u001b[1;33m.\u001b[0m\u001b[0mexecution_count\u001b[0m\u001b[1;33m)\u001b[0m\u001b[1;33m\u001b[0m\u001b[1;33m\u001b[0m\u001b[0m\n",
      "\u001b[0m\u001b[1;32m   3186 \u001b[1;33m            \u001b[1;31m# Each cell is a *single* input, regardless of how many lines it has\u001b[0m\u001b[1;33m\u001b[0m\u001b[1;33m\u001b[0m\u001b[0m\n",
      "\u001b[0m\u001b[1;32m-> 3187 \u001b[1;33m            \u001b[0mself\u001b[0m\u001b[1;33m.\u001b[0m\u001b[0mexecution_count\u001b[0m \u001b[1;33m+=\u001b[0m \u001b[1;36m1\u001b[0m\u001b[1;33m\u001b[0m\u001b[1;33m\u001b[0m\u001b[0m\n",
      "\u001b[0m\u001b[1;32m   3188 \u001b[1;33m\u001b[1;33m\u001b[0m\u001b[0m\n",
      "\u001b[0m\u001b[1;32m   3189 \u001b[1;33m        \u001b[1;32mreturn\u001b[0m \u001b[0mresult\u001b[0m\u001b[1;33m\u001b[0m\u001b[1;33m\u001b[0m\u001b[0m\n",
      "\u001b[0m\n",
      "> \u001b[1;32mc:\\users\\meisam\\anaconda3\\lib\\site-packages\\ipython\\core\\interactiveshell.py\u001b[0m(3189)\u001b[0;36mrun_cell_async\u001b[1;34m()\u001b[0m\n",
      "\u001b[1;32m   3187 \u001b[1;33m            \u001b[0mself\u001b[0m\u001b[1;33m.\u001b[0m\u001b[0mexecution_count\u001b[0m \u001b[1;33m+=\u001b[0m \u001b[1;36m1\u001b[0m\u001b[1;33m\u001b[0m\u001b[1;33m\u001b[0m\u001b[0m\n",
      "\u001b[0m\u001b[1;32m   3188 \u001b[1;33m\u001b[1;33m\u001b[0m\u001b[0m\n",
      "\u001b[0m\u001b[1;32m-> 3189 \u001b[1;33m        \u001b[1;32mreturn\u001b[0m \u001b[0mresult\u001b[0m\u001b[1;33m\u001b[0m\u001b[1;33m\u001b[0m\u001b[0m\n",
      "\u001b[0m\u001b[1;32m   3190 \u001b[1;33m\u001b[1;33m\u001b[0m\u001b[0m\n",
      "\u001b[0m\u001b[1;32m   3191 \u001b[1;33m    \u001b[1;32mdef\u001b[0m \u001b[0mtransform_cell\u001b[0m\u001b[1;33m(\u001b[0m\u001b[0mself\u001b[0m\u001b[1;33m,\u001b[0m \u001b[0mraw_cell\u001b[0m\u001b[1;33m)\u001b[0m\u001b[1;33m:\u001b[0m\u001b[1;33m\u001b[0m\u001b[1;33m\u001b[0m\u001b[0m\n",
      "\u001b[0m\n"
     ]
    },
    {
     "ename": "BdbQuit",
     "evalue": "",
     "output_type": "error",
     "traceback": [
      "\u001b[1;31m---------------------------------------------------------------------------\u001b[0m",
      "\u001b[1;31mBdbQuit\u001b[0m                                   Traceback (most recent call last)",
      "\u001b[1;32mc:\\Users\\meisam\\anaconda3\\lib\\site-packages\\IPython\\core\\async_helpers.py\u001b[0m in \u001b[0;36m_pseudo_sync_runner\u001b[1;34m(coro)\u001b[0m\n\u001b[0;32m     66\u001b[0m     \"\"\"\n\u001b[0;32m     67\u001b[0m     \u001b[1;32mtry\u001b[0m\u001b[1;33m:\u001b[0m\u001b[1;33m\u001b[0m\u001b[1;33m\u001b[0m\u001b[0m\n\u001b[1;32m---> 68\u001b[1;33m         \u001b[0mcoro\u001b[0m\u001b[1;33m.\u001b[0m\u001b[0msend\u001b[0m\u001b[1;33m(\u001b[0m\u001b[1;32mNone\u001b[0m\u001b[1;33m)\u001b[0m\u001b[1;33m\u001b[0m\u001b[1;33m\u001b[0m\u001b[0m\n\u001b[0m\u001b[0;32m     69\u001b[0m     \u001b[1;32mexcept\u001b[0m \u001b[0mStopIteration\u001b[0m \u001b[1;32mas\u001b[0m \u001b[0mexc\u001b[0m\u001b[1;33m:\u001b[0m\u001b[1;33m\u001b[0m\u001b[1;33m\u001b[0m\u001b[0m\n\u001b[0;32m     70\u001b[0m         \u001b[1;32mreturn\u001b[0m \u001b[0mexc\u001b[0m\u001b[1;33m.\u001b[0m\u001b[0mvalue\u001b[0m\u001b[1;33m\u001b[0m\u001b[1;33m\u001b[0m\u001b[0m\n",
      "\u001b[1;32mc:\\Users\\meisam\\anaconda3\\lib\\site-packages\\IPython\\core\\interactiveshell.py\u001b[0m in \u001b[0;36mrun_cell_async\u001b[1;34m(self, raw_cell, store_history, silent, shell_futures, transformed_cell, preprocessing_exc_tuple)\u001b[0m\n\u001b[0;32m   3187\u001b[0m             \u001b[0mself\u001b[0m\u001b[1;33m.\u001b[0m\u001b[0mexecution_count\u001b[0m \u001b[1;33m+=\u001b[0m \u001b[1;36m1\u001b[0m\u001b[1;33m\u001b[0m\u001b[1;33m\u001b[0m\u001b[0m\n\u001b[0;32m   3188\u001b[0m \u001b[1;33m\u001b[0m\u001b[0m\n\u001b[1;32m-> 3189\u001b[1;33m         \u001b[1;32mreturn\u001b[0m \u001b[0mresult\u001b[0m\u001b[1;33m\u001b[0m\u001b[1;33m\u001b[0m\u001b[0m\n\u001b[0m\u001b[0;32m   3190\u001b[0m \u001b[1;33m\u001b[0m\u001b[0m\n\u001b[0;32m   3191\u001b[0m     \u001b[1;32mdef\u001b[0m \u001b[0mtransform_cell\u001b[0m\u001b[1;33m(\u001b[0m\u001b[0mself\u001b[0m\u001b[1;33m,\u001b[0m \u001b[0mraw_cell\u001b[0m\u001b[1;33m)\u001b[0m\u001b[1;33m:\u001b[0m\u001b[1;33m\u001b[0m\u001b[1;33m\u001b[0m\u001b[0m\n",
      "\u001b[1;32mc:\\Users\\meisam\\anaconda3\\lib\\site-packages\\IPython\\core\\interactiveshell.py\u001b[0m in \u001b[0;36mrun_cell_async\u001b[1;34m(self, raw_cell, store_history, silent, shell_futures, transformed_cell, preprocessing_exc_tuple)\u001b[0m\n\u001b[0;32m   3187\u001b[0m             \u001b[0mself\u001b[0m\u001b[1;33m.\u001b[0m\u001b[0mexecution_count\u001b[0m \u001b[1;33m+=\u001b[0m \u001b[1;36m1\u001b[0m\u001b[1;33m\u001b[0m\u001b[1;33m\u001b[0m\u001b[0m\n\u001b[0;32m   3188\u001b[0m \u001b[1;33m\u001b[0m\u001b[0m\n\u001b[1;32m-> 3189\u001b[1;33m         \u001b[1;32mreturn\u001b[0m \u001b[0mresult\u001b[0m\u001b[1;33m\u001b[0m\u001b[1;33m\u001b[0m\u001b[0m\n\u001b[0m\u001b[0;32m   3190\u001b[0m \u001b[1;33m\u001b[0m\u001b[0m\n\u001b[0;32m   3191\u001b[0m     \u001b[1;32mdef\u001b[0m \u001b[0mtransform_cell\u001b[0m\u001b[1;33m(\u001b[0m\u001b[0mself\u001b[0m\u001b[1;33m,\u001b[0m \u001b[0mraw_cell\u001b[0m\u001b[1;33m)\u001b[0m\u001b[1;33m:\u001b[0m\u001b[1;33m\u001b[0m\u001b[1;33m\u001b[0m\u001b[0m\n",
      "\u001b[1;32mc:\\Users\\meisam\\anaconda3\\lib\\bdb.py\u001b[0m in \u001b[0;36mtrace_dispatch\u001b[1;34m(self, frame, event, arg)\u001b[0m\n\u001b[0;32m     86\u001b[0m             \u001b[1;32mreturn\u001b[0m \u001b[1;31m# None\u001b[0m\u001b[1;33m\u001b[0m\u001b[1;33m\u001b[0m\u001b[0m\n\u001b[0;32m     87\u001b[0m         \u001b[1;32mif\u001b[0m \u001b[0mevent\u001b[0m \u001b[1;33m==\u001b[0m \u001b[1;34m'line'\u001b[0m\u001b[1;33m:\u001b[0m\u001b[1;33m\u001b[0m\u001b[1;33m\u001b[0m\u001b[0m\n\u001b[1;32m---> 88\u001b[1;33m             \u001b[1;32mreturn\u001b[0m \u001b[0mself\u001b[0m\u001b[1;33m.\u001b[0m\u001b[0mdispatch_line\u001b[0m\u001b[1;33m(\u001b[0m\u001b[0mframe\u001b[0m\u001b[1;33m)\u001b[0m\u001b[1;33m\u001b[0m\u001b[1;33m\u001b[0m\u001b[0m\n\u001b[0m\u001b[0;32m     89\u001b[0m         \u001b[1;32mif\u001b[0m \u001b[0mevent\u001b[0m \u001b[1;33m==\u001b[0m \u001b[1;34m'call'\u001b[0m\u001b[1;33m:\u001b[0m\u001b[1;33m\u001b[0m\u001b[1;33m\u001b[0m\u001b[0m\n\u001b[0;32m     90\u001b[0m             \u001b[1;32mreturn\u001b[0m \u001b[0mself\u001b[0m\u001b[1;33m.\u001b[0m\u001b[0mdispatch_call\u001b[0m\u001b[1;33m(\u001b[0m\u001b[0mframe\u001b[0m\u001b[1;33m,\u001b[0m \u001b[0marg\u001b[0m\u001b[1;33m)\u001b[0m\u001b[1;33m\u001b[0m\u001b[1;33m\u001b[0m\u001b[0m\n",
      "\u001b[1;32mc:\\Users\\meisam\\anaconda3\\lib\\bdb.py\u001b[0m in \u001b[0;36mdispatch_line\u001b[1;34m(self, frame)\u001b[0m\n\u001b[0;32m    111\u001b[0m         \u001b[1;32mif\u001b[0m \u001b[0mself\u001b[0m\u001b[1;33m.\u001b[0m\u001b[0mstop_here\u001b[0m\u001b[1;33m(\u001b[0m\u001b[0mframe\u001b[0m\u001b[1;33m)\u001b[0m \u001b[1;32mor\u001b[0m \u001b[0mself\u001b[0m\u001b[1;33m.\u001b[0m\u001b[0mbreak_here\u001b[0m\u001b[1;33m(\u001b[0m\u001b[0mframe\u001b[0m\u001b[1;33m)\u001b[0m\u001b[1;33m:\u001b[0m\u001b[1;33m\u001b[0m\u001b[1;33m\u001b[0m\u001b[0m\n\u001b[0;32m    112\u001b[0m             \u001b[0mself\u001b[0m\u001b[1;33m.\u001b[0m\u001b[0muser_line\u001b[0m\u001b[1;33m(\u001b[0m\u001b[0mframe\u001b[0m\u001b[1;33m)\u001b[0m\u001b[1;33m\u001b[0m\u001b[1;33m\u001b[0m\u001b[0m\n\u001b[1;32m--> 113\u001b[1;33m             \u001b[1;32mif\u001b[0m \u001b[0mself\u001b[0m\u001b[1;33m.\u001b[0m\u001b[0mquitting\u001b[0m\u001b[1;33m:\u001b[0m \u001b[1;32mraise\u001b[0m \u001b[0mBdbQuit\u001b[0m\u001b[1;33m\u001b[0m\u001b[1;33m\u001b[0m\u001b[0m\n\u001b[0m\u001b[0;32m    114\u001b[0m         \u001b[1;32mreturn\u001b[0m \u001b[0mself\u001b[0m\u001b[1;33m.\u001b[0m\u001b[0mtrace_dispatch\u001b[0m\u001b[1;33m\u001b[0m\u001b[1;33m\u001b[0m\u001b[0m\n\u001b[0;32m    115\u001b[0m \u001b[1;33m\u001b[0m\u001b[0m\n",
      "\u001b[1;31mBdbQuit\u001b[0m: "
     ]
    }
   ],
   "source": []
  }
 ],
 "metadata": {
  "kernelspec": {
   "display_name": "Python 3 (ipykernel)",
   "language": "python",
   "name": "python3"
  },
  "language_info": {
   "codemirror_mode": {
    "name": "ipython",
    "version": 3
   },
   "file_extension": ".py",
   "mimetype": "text/x-python",
   "name": "python",
   "nbconvert_exporter": "python",
   "pygments_lexer": "ipython3",
   "version": "3.9.7"
  }
 },
 "nbformat": 4,
 "nbformat_minor": 2
}
